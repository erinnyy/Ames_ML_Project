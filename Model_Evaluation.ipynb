{
 "cells": [
  {
   "cell_type": "code",
   "execution_count": 1,
   "id": "9f897bae",
   "metadata": {},
   "outputs": [],
   "source": [
    "import glob\n",
    "import numpy as np\n",
    "import pandas as pd\n",
    "import matplotlib.pyplot as plt\n",
    "import seaborn as sns\n",
    "%matplotlib inline"
   ]
  },
  {
   "cell_type": "code",
   "execution_count": 2,
   "id": "8dc3bd96",
   "metadata": {},
   "outputs": [],
   "source": [
    "files_r2 = glob.glob('r2_*.csv')\n",
    "r2_ = [pd.read_csv(f) for f in files_r2]\n",
    "r2_all = pd.concat(r2_, ignore_index=True)"
   ]
  },
  {
   "cell_type": "code",
   "execution_count": 3,
   "id": "bb1a4c03",
   "metadata": {
    "scrolled": true
   },
   "outputs": [
    {
     "data": {
      "text/html": [
       "<div>\n",
       "<style scoped>\n",
       "    .dataframe tbody tr th:only-of-type {\n",
       "        vertical-align: middle;\n",
       "    }\n",
       "\n",
       "    .dataframe tbody tr th {\n",
       "        vertical-align: top;\n",
       "    }\n",
       "\n",
       "    .dataframe thead th {\n",
       "        text-align: right;\n",
       "    }\n",
       "</style>\n",
       "<table border=\"1\" class=\"dataframe\">\n",
       "  <thead>\n",
       "    <tr style=\"text-align: right;\">\n",
       "      <th></th>\n",
       "      <th>index</th>\n",
       "      <th>model</th>\n",
       "      <th>metric</th>\n",
       "      <th>score</th>\n",
       "    </tr>\n",
       "  </thead>\n",
       "  <tbody>\n",
       "    <tr>\n",
       "      <th>10</th>\n",
       "      <td>1</td>\n",
       "      <td>GradientBoosting</td>\n",
       "      <td>Best_Tuned_R2</td>\n",
       "      <td>0.939563</td>\n",
       "    </tr>\n",
       "    <tr>\n",
       "      <th>13</th>\n",
       "      <td>1</td>\n",
       "      <td>CatBoost</td>\n",
       "      <td>Best_Tuned_R2</td>\n",
       "      <td>0.938871</td>\n",
       "    </tr>\n",
       "    <tr>\n",
       "      <th>7</th>\n",
       "      <td>1</td>\n",
       "      <td>LightGBM</td>\n",
       "      <td>Best_Tuned_R2</td>\n",
       "      <td>0.933937</td>\n",
       "    </tr>\n",
       "    <tr>\n",
       "      <th>1</th>\n",
       "      <td>1</td>\n",
       "      <td>Ridge</td>\n",
       "      <td>Best_Tuned_R2</td>\n",
       "      <td>0.929131</td>\n",
       "    </tr>\n",
       "    <tr>\n",
       "      <th>4</th>\n",
       "      <td>1</td>\n",
       "      <td>RandomForest</td>\n",
       "      <td>Best_Tuned_R2</td>\n",
       "      <td>0.913890</td>\n",
       "    </tr>\n",
       "    <tr>\n",
       "      <th>14</th>\n",
       "      <td>2</td>\n",
       "      <td>CatBoost</td>\n",
       "      <td>Final_CV_mean_R2</td>\n",
       "      <td>0.927621</td>\n",
       "    </tr>\n",
       "    <tr>\n",
       "      <th>8</th>\n",
       "      <td>2</td>\n",
       "      <td>LightGBM</td>\n",
       "      <td>Final_CV_mean_R2</td>\n",
       "      <td>0.920263</td>\n",
       "    </tr>\n",
       "    <tr>\n",
       "      <th>11</th>\n",
       "      <td>2</td>\n",
       "      <td>GradientBoosting</td>\n",
       "      <td>Final_CV_mean_R2</td>\n",
       "      <td>0.918811</td>\n",
       "    </tr>\n",
       "    <tr>\n",
       "      <th>2</th>\n",
       "      <td>2</td>\n",
       "      <td>Ridge</td>\n",
       "      <td>Final_CV_mean_R2</td>\n",
       "      <td>0.907275</td>\n",
       "    </tr>\n",
       "    <tr>\n",
       "      <th>5</th>\n",
       "      <td>2</td>\n",
       "      <td>RandomForest</td>\n",
       "      <td>Final_CV_mean_R2</td>\n",
       "      <td>0.900399</td>\n",
       "    </tr>\n",
       "    <tr>\n",
       "      <th>6</th>\n",
       "      <td>0</td>\n",
       "      <td>LightGBM</td>\n",
       "      <td>Test_R2</td>\n",
       "      <td>0.942017</td>\n",
       "    </tr>\n",
       "    <tr>\n",
       "      <th>12</th>\n",
       "      <td>0</td>\n",
       "      <td>CatBoost</td>\n",
       "      <td>Test_R2</td>\n",
       "      <td>0.932119</td>\n",
       "    </tr>\n",
       "    <tr>\n",
       "      <th>9</th>\n",
       "      <td>0</td>\n",
       "      <td>GradientBoosting</td>\n",
       "      <td>Test_R2</td>\n",
       "      <td>0.922869</td>\n",
       "    </tr>\n",
       "    <tr>\n",
       "      <th>0</th>\n",
       "      <td>0</td>\n",
       "      <td>Ridge</td>\n",
       "      <td>Test_R2</td>\n",
       "      <td>0.922093</td>\n",
       "    </tr>\n",
       "    <tr>\n",
       "      <th>3</th>\n",
       "      <td>0</td>\n",
       "      <td>RandomForest</td>\n",
       "      <td>Test_R2</td>\n",
       "      <td>0.902647</td>\n",
       "    </tr>\n",
       "  </tbody>\n",
       "</table>\n",
       "</div>"
      ],
      "text/plain": [
       "    index             model            metric     score\n",
       "10      1  GradientBoosting     Best_Tuned_R2  0.939563\n",
       "13      1          CatBoost     Best_Tuned_R2  0.938871\n",
       "7       1          LightGBM     Best_Tuned_R2  0.933937\n",
       "1       1             Ridge     Best_Tuned_R2  0.929131\n",
       "4       1      RandomForest     Best_Tuned_R2  0.913890\n",
       "14      2          CatBoost  Final_CV_mean_R2  0.927621\n",
       "8       2          LightGBM  Final_CV_mean_R2  0.920263\n",
       "11      2  GradientBoosting  Final_CV_mean_R2  0.918811\n",
       "2       2             Ridge  Final_CV_mean_R2  0.907275\n",
       "5       2      RandomForest  Final_CV_mean_R2  0.900399\n",
       "6       0          LightGBM           Test_R2  0.942017\n",
       "12      0          CatBoost           Test_R2  0.932119\n",
       "9       0  GradientBoosting           Test_R2  0.922869\n",
       "0       0             Ridge           Test_R2  0.922093\n",
       "3       0      RandomForest           Test_R2  0.902647"
      ]
     },
     "execution_count": 3,
     "metadata": {},
     "output_type": "execute_result"
    }
   ],
   "source": [
    "r2_all.sort_values(\n",
    "    by=['metric','score'],\n",
    "    ascending=[True, False]\n",
    ")"
   ]
  },
  {
   "cell_type": "code",
   "execution_count": 10,
   "id": "09744fa5",
   "metadata": {},
   "outputs": [
    {
     "data": {
      "text/html": [
       "<div>\n",
       "<style scoped>\n",
       "    .dataframe tbody tr th:only-of-type {\n",
       "        vertical-align: middle;\n",
       "    }\n",
       "\n",
       "    .dataframe tbody tr th {\n",
       "        vertical-align: top;\n",
       "    }\n",
       "\n",
       "    .dataframe thead th {\n",
       "        text-align: right;\n",
       "    }\n",
       "</style>\n",
       "<table border=\"1\" class=\"dataframe\">\n",
       "  <thead>\n",
       "    <tr style=\"text-align: right;\">\n",
       "      <th></th>\n",
       "      <th>model</th>\n",
       "      <th>metric</th>\n",
       "      <th>score</th>\n",
       "    </tr>\n",
       "  </thead>\n",
       "  <tbody>\n",
       "    <tr>\n",
       "      <th>6</th>\n",
       "      <td>LightGBM</td>\n",
       "      <td>Test_R2</td>\n",
       "      <td>0.942017</td>\n",
       "    </tr>\n",
       "    <tr>\n",
       "      <th>12</th>\n",
       "      <td>CatBoost</td>\n",
       "      <td>Test_R2</td>\n",
       "      <td>0.932119</td>\n",
       "    </tr>\n",
       "    <tr>\n",
       "      <th>9</th>\n",
       "      <td>GradientBoosting</td>\n",
       "      <td>Test_R2</td>\n",
       "      <td>0.922869</td>\n",
       "    </tr>\n",
       "    <tr>\n",
       "      <th>0</th>\n",
       "      <td>Ridge</td>\n",
       "      <td>Test_R2</td>\n",
       "      <td>0.922093</td>\n",
       "    </tr>\n",
       "    <tr>\n",
       "      <th>3</th>\n",
       "      <td>RandomForest</td>\n",
       "      <td>Test_R2</td>\n",
       "      <td>0.902647</td>\n",
       "    </tr>\n",
       "  </tbody>\n",
       "</table>\n",
       "</div>"
      ],
      "text/plain": [
       "               model   metric     score\n",
       "6           LightGBM  Test_R2  0.942017\n",
       "12          CatBoost  Test_R2  0.932119\n",
       "9   GradientBoosting  Test_R2  0.922869\n",
       "0              Ridge  Test_R2  0.922093\n",
       "3       RandomForest  Test_R2  0.902647"
      ]
     },
     "execution_count": 10,
     "metadata": {},
     "output_type": "execute_result"
    }
   ],
   "source": [
    "r2_all.loc[r2_all['metric']=='Test_R2'].sort_values(by='score', ascending=False).drop('index', axis=1)"
   ]
  },
  {
   "cell_type": "code",
   "execution_count": 5,
   "id": "ad4ecee5",
   "metadata": {},
   "outputs": [],
   "source": [
    "# files_shap = glob.glob('shap_importance_*.csv')\n",
    "# shap_ = [pd.read_csv(f) for f in files_shap]\n",
    "# shap_all = pd.concat(shap_, ignore_index=True)"
   ]
  },
  {
   "cell_type": "code",
   "execution_count": 6,
   "id": "c09e688c",
   "metadata": {},
   "outputs": [
    {
     "data": {
      "text/plain": [
       "<Axes: xlabel='metric', ylabel='score'>"
      ]
     },
     "execution_count": 6,
     "metadata": {},
     "output_type": "execute_result"
    },
    {
     "data": {
      "image/png": "[encoded data removed]",
      "text/plain": [
       "<Figure size 640x480 with 1 Axes>"
      ]
     },
     "metadata": {},
     "output_type": "display_data"
    }
   ],
   "source": [
    "sns.barplot(data=r2_all, x=\"metric\", y=\"score\", hue=\"model\", errorbar=None)"
   ]
  },
  {
   "cell_type": "code",
   "execution_count": 7,
   "id": "fe5dce4f",
   "metadata": {},
   "outputs": [
    {
     "data": {
      "image/png": "[encoded data removed]",
      "text/plain": [
       "<Figure size 640x480 with 1 Axes>"
      ]
     },
     "metadata": {},
     "output_type": "display_data"
    }
   ],
   "source": [
    "import seaborn as sns\n",
    "import matplotlib.pyplot as plt\n",
    "\n",
    "ax = sns.barplot(data=r2_all, x=\"metric\", y=\"score\", hue=\"model\", errorbar=None)\n",
    "\n",
    "# annotate the best model for each metric\n",
    "winners = r2_all.loc[r2_all.groupby(\"metric\")[\"score\"].idxmax()]\n",
    "for _, r in winners.iterrows():\n",
    "    ax.annotate(\"★\", (r[\"metric\"], r[\"score\"]), ha=\"center\", va=\"bottom\", fontsize=12)\n",
    "\n",
    "ax.set_ylabel(\"Score\"); ax.set_xlabel(\"Metric\")\n",
    "plt.legend(title=\"Model\", bbox_to_anchor=(1.01, 1), loc=\"upper left\")\n",
    "plt.tight_layout()\n",
    "plt.show()\n"
   ]
  },
  {
   "cell_type": "code",
   "execution_count": 8,
   "id": "f33053b3",
   "metadata": {},
   "outputs": [],
   "source": [
    "\n",
    "# ax = sns.barplot(data=r2_all, x=\"metric\", y=\"score\", hue=\"model\", errorbar=None)\n",
    "\n",
    "# # annotate the best model for each metric\n",
    "# winners = df.loc[df.groupby(\"metric\")[\"score\"].idxmax()]\n",
    "# for _, r in winners.iterrows():\n",
    "#     ax.annotate(\"★\", (r[\"metric\"], r[\"score\"]), ha=\"center\", va=\"bottom\", fontsize=12)\n",
    "\n",
    "# ax.set_ylabel(\"Score\"); ax.set_xlabel(\"Metric\")\n",
    "# plt.legend(title=\"Model\", bbox_to_anchor=(1.01, 1), loc=\"upper left\")\n",
    "# plt.tight_layout()\n",
    "# plt.show()"
   ]
  },
  {
   "cell_type": "code",
   "execution_count": 9,
   "id": "3481dd8c",
   "metadata": {},
   "outputs": [
    {
     "ename": "NameError",
     "evalue": "name 'shap_all' is not defined",
     "output_type": "error",
     "traceback": [
      "\u001b[0;31m---------------------------------------------------------------------------\u001b[0m",
      "\u001b[0;31mNameError\u001b[0m                                 Traceback (most recent call last)",
      "Cell \u001b[0;32mIn[9], line 1\u001b[0m\n\u001b[0;32m----> 1\u001b[0m shap_all\n",
      "\u001b[0;31mNameError\u001b[0m: name 'shap_all' is not defined"
     ]
    }
   ],
   "source": [
    "shap_all"
   ]
  }
 ],
 "metadata": {
  "kernelspec": {
   "display_name": "Python 3 (ipykernel)",
   "language": "python",
   "name": "python3"
  },
  "language_info": {
   "codemirror_mode": {
    "name": "ipython",
    "version": 3
   },
   "file_extension": ".py",
   "mimetype": "text/x-python",
   "name": "python",
   "nbconvert_exporter": "python",
   "pygments_lexer": "ipython3",
   "version": "3.11.3"
  }
 },
 "nbformat": 4,
 "nbformat_minor": 5
}
