{
 "cells": [
  {
   "cell_type": "code",
   "execution_count": null,
   "id": "15751ce5",
   "metadata": {
    "scrolled": true
   },
   "outputs": [],
   "source": [
    "#!pip install catboost"
   ]
  },
  {
   "cell_type": "code",
   "execution_count": 45,
   "id": "1271cd66",
   "metadata": {
    "scrolled": true
   },
   "outputs": [],
   "source": [
    "import numpy as np\n",
    "import pandas as pd\n",
    "import matplotlib.pyplot as plt\n",
    "import seaborn as sns\n",
    "\n",
    "pd.set_option(\"display.max_columns\", 200)\n",
    "\n",
    "from catboost import CatBoostRegressor\n",
    "\n",
    "from sklearn.model_selection import train_test_split, RandomizedSearchCV\n",
    "#from sklearn.model_selection import RandomizedSearchCV\n",
    "#from sklearn.model_selection import KFold, GridSearchCV\n",
    "from sklearn.metrics import mean_squared_error, r2_score\n",
    "from sklearn.model_selection import RepeatedKFold, cross_val_score, cross_validate\n",
    "#from sklearn.model_selection import StratifiedShuffleSplit\n",
    "#from sklearn.base import clone"
   ]
  },
  {
   "cell_type": "code",
   "execution_count": 2,
   "id": "b5d9f380",
   "metadata": {},
   "outputs": [
    {
     "data": {
      "text/plain": [
       "(2374, 98)"
      ]
     },
     "execution_count": 2,
     "metadata": {},
     "output_type": "execute_result"
    }
   ],
   "source": [
    "df = pd.read_csv('housing_clean.csv', index_col=0)\n",
    "df.shape"
   ]
  },
  {
   "cell_type": "code",
   "execution_count": null,
   "id": "f73461c5",
   "metadata": {},
   "outputs": [],
   "source": [
    "df.info(verbose = True)"
   ]
  },
  {
   "cell_type": "markdown",
   "id": "261fdb97",
   "metadata": {},
   "source": [
    "### Remove original columns that have been ordinalized"
   ]
  },
  {
   "cell_type": "code",
   "execution_count": 3,
   "id": "99d9fec6",
   "metadata": {},
   "outputs": [],
   "source": [
    "df = df.drop(columns=[col for col in df.columns if col.endswith('_todrop')])"
   ]
  },
  {
   "cell_type": "markdown",
   "id": "b7f7b7bb",
   "metadata": {},
   "source": [
    "### Handle nominal features\n",
    "- For CatBoost, we don't need to dummify nominal features\n",
    "- We do need to covert all nominal feature columns into string data type\n",
    "- Better to do this before train / test split"
   ]
  },
  {
   "cell_type": "code",
   "execution_count": 4,
   "id": "a5076174",
   "metadata": {},
   "outputs": [],
   "source": [
    "categ_nom = ['MSSubClass','BldgType','HouseStyle','SaleType','SaleCondition','MiscFeature',\n",
    "             'Fence','GarageType','RoofStyle','RoofMatl','exterior_covering','MasVnrType',\n",
    "             'MSZoning','Street','LotShape','LandContour','LotConfig','LandSlope','Neighborhood',\n",
    "             'Alley','condition','Foundation','Utilities','Heating',\n",
    "             'CentralAir','MoSold','Electrical','QrtSold','YrSold']"
   ]
  },
  {
   "cell_type": "code",
   "execution_count": 5,
   "id": "9d5654b1",
   "metadata": {
    "scrolled": true
   },
   "outputs": [
    {
     "name": "stdout",
     "output_type": "stream",
     "text": [
      "MSSubClass            int64\n",
      "BldgType             object\n",
      "HouseStyle           object\n",
      "SaleType             object\n",
      "SaleCondition        object\n",
      "MiscFeature          object\n",
      "Fence                object\n",
      "GarageType           object\n",
      "RoofStyle            object\n",
      "RoofMatl             object\n",
      "exterior_covering    object\n",
      "MasVnrType           object\n",
      "MSZoning             object\n",
      "Street               object\n",
      "LotShape             object\n",
      "LandContour          object\n",
      "LotConfig            object\n",
      "LandSlope            object\n",
      "Neighborhood         object\n",
      "Alley                object\n",
      "condition            object\n",
      "Foundation           object\n",
      "Utilities            object\n",
      "Heating              object\n",
      "CentralAir           object\n",
      "MoSold                int64\n",
      "Electrical           object\n",
      "QrtSold              object\n",
      "YrSold                int64\n",
      "dtype: object\n"
     ]
    }
   ],
   "source": [
    "# check data type for each nominal feature\n",
    "print(df[categ_nom].dtypes)"
   ]
  },
  {
   "cell_type": "code",
   "execution_count": 6,
   "id": "f5f900f5",
   "metadata": {},
   "outputs": [],
   "source": [
    "# turn all nominal features into string type so it can be passed in cat_features argument later\n",
    "df[categ_nom] = df[categ_nom].astype(str)"
   ]
  },
  {
   "cell_type": "code",
   "execution_count": 7,
   "id": "a9a8d7ab",
   "metadata": {
    "scrolled": true
   },
   "outputs": [
    {
     "name": "stdout",
     "output_type": "stream",
     "text": [
      "MSSubClass           object\n",
      "BldgType             object\n",
      "HouseStyle           object\n",
      "SaleType             object\n",
      "SaleCondition        object\n",
      "MiscFeature          object\n",
      "Fence                object\n",
      "GarageType           object\n",
      "RoofStyle            object\n",
      "RoofMatl             object\n",
      "exterior_covering    object\n",
      "MasVnrType           object\n",
      "MSZoning             object\n",
      "Street               object\n",
      "LotShape             object\n",
      "LandContour          object\n",
      "LotConfig            object\n",
      "LandSlope            object\n",
      "Neighborhood         object\n",
      "Alley                object\n",
      "condition            object\n",
      "Foundation           object\n",
      "Utilities            object\n",
      "Heating              object\n",
      "CentralAir           object\n",
      "MoSold               object\n",
      "Electrical           object\n",
      "QrtSold              object\n",
      "YrSold               object\n",
      "dtype: object\n"
     ]
    }
   ],
   "source": [
    "print(df[categ_nom].dtypes)"
   ]
  },
  {
   "cell_type": "markdown",
   "id": "b5672295",
   "metadata": {},
   "source": [
    "### Perform Train / Test Split"
   ]
  },
  {
   "cell_type": "code",
   "execution_count": 43,
   "id": "859577ca",
   "metadata": {},
   "outputs": [],
   "source": [
    "X = df.drop(['SalePrice', 'PID'], axis = 1)\n",
    "y = df['SalePrice']"
   ]
  },
  {
   "cell_type": "code",
   "execution_count": 8,
   "id": "2977afdd",
   "metadata": {},
   "outputs": [],
   "source": [
    "# Split the data into train and test based on the year the house was sold\n",
    "#X_train, X_test, y_train, y_test = train_test_split(X, y, test_size=0.3, random_state = 42)\n",
    "\n",
    "X_train = df.loc[df['YrSold'].astype(int).between(2006, 2009)].drop(['SalePrice', 'PID'], axis = 1)\n",
    "X_test = df.loc[df['YrSold'].astype(int) == 2010].drop(['SalePrice', 'PID'], axis = 1)\n",
    "\n",
    "y_train = df.loc[df['YrSold'].astype(int).between(2006, 2009)]['SalePrice']\n",
    "y_test = df.loc[df['YrSold'].astype(int) == 2010]['SalePrice']"
   ]
  },
  {
   "cell_type": "code",
   "execution_count": 9,
   "id": "e0df72f4",
   "metadata": {
    "scrolled": true
   },
   "outputs": [],
   "source": [
    "# below only used in early stopping model\n",
    "# Further splitting the training set into train and validation set for hyperparam tuning\n",
    "X_tra, X_val, y_tra, y_val = train_test_split(X_train, y_train, test_size=0.3, random_state = 42)"
   ]
  },
  {
   "cell_type": "markdown",
   "id": "322a6e11",
   "metadata": {},
   "source": [
    "### Setting up a baseline model before any tuning\n",
    "\n",
    "* **Set a fair baseline:** Train a plain (untuned) model to get a reference R² you can compare against after tuning.\n",
    "* **Reduce split luck:** Repeat cross validation multiple times for the training dataset and **average** the R² so your baseline isn’t driven by a single “easy” or “hard” split.\n",
    "* **Isolate variability:** Fix the model’s `random_state` so differences come from the **data splits**, not extra model randomness.\n",
    "* **Make comparisons honest:** Report mean ± std of train/test R² from these repeats; tuning “wins” only if it beats this baseline by more than the noise."
   ]
  },
  {
   "cell_type": "code",
   "execution_count": 16,
   "id": "a46e531b",
   "metadata": {},
   "outputs": [],
   "source": [
    "model_baseline = CatBoostRegressor(\n",
    "    cat_features=categ_nom,\n",
    "    verbose=0,  # Suppress training output\n",
    "    random_state=42)"
   ]
  },
  {
   "cell_type": "code",
   "execution_count": 17,
   "id": "69ff60ee",
   "metadata": {},
   "outputs": [
    {
     "data": {
      "text/plain": [
       "<catboost.core.CatBoostRegressor at 0x14379aa50>"
      ]
     },
     "execution_count": 17,
     "metadata": {},
     "output_type": "execute_result"
    }
   ],
   "source": [
    "model_baseline.fit(X_train, y_train)"
   ]
  },
  {
   "cell_type": "code",
   "execution_count": 18,
   "id": "9565a78f",
   "metadata": {},
   "outputs": [],
   "source": [
    "y_train_pred = model_baseline.predict(X_train)\n",
    "y_test_pred = model_baseline.predict(X_test)"
   ]
  },
  {
   "cell_type": "code",
   "execution_count": 22,
   "id": "825c24c0",
   "metadata": {},
   "outputs": [
    {
     "name": "stdout",
     "output_type": "stream",
     "text": [
      "Train R square: 0.9874\n",
      "Test R square: 0.9319\n"
     ]
    }
   ],
   "source": [
    "# R2\n",
    "r2_baseline_train = model_baseline.score(X_train, y_train)\n",
    "r2_baseline_test = model_baseline.score(X_test, y_test)\n",
    "\n",
    "print(f\"Train R square: {r2_baseline_train:.4f}\")\n",
    "print(f\"Test R square: {r2_baseline_test:.4f}\") "
   ]
  },
  {
   "cell_type": "code",
   "execution_count": 23,
   "id": "9ca26375",
   "metadata": {},
   "outputs": [
    {
     "name": "stdout",
     "output_type": "stream",
     "text": [
      "Train Root Mean Squared Error: 8480.36\n",
      "Test Root Mean Squared Error: 19397.18\n"
     ]
    }
   ],
   "source": [
    "# root mean squared error, lower is better\n",
    "# sensitive to outliers\n",
    "# tells you the average size of the error in prediction — in dollar terms\n",
    "rmse_baseline_train = np.sqrt(mean_squared_error(y_train, y_train_pred))\n",
    "rmse_baseline_test = np.sqrt(mean_squared_error(y_test, y_test_pred))\n",
    "\n",
    "print(f\"Train Root Mean Squared Error: {rmse_baseline_train:.2f}\")\n",
    "print(f\"Test Root Mean Squared Error: {rmse_baseline_test:.2f}\")"
   ]
  },
  {
   "cell_type": "code",
   "execution_count": 10,
   "id": "095cff5e",
   "metadata": {
    "scrolled": true
   },
   "outputs": [
    {
     "name": "stdout",
     "output_type": "stream",
     "text": [
      "Average baseline R-squared score: 0.9300\n",
      "Average baseline RMSE: $19799.04\n",
      "Standard deviation of RMSE: $3354.87\n"
     ]
    }
   ],
   "source": [
    "# Implementing Repeated K-Fold Cross-Validation (before tuning any hyperparameters)\n",
    "\n",
    "n_splits = 5\n",
    "n_repeats = 3\n",
    "rkf = RepeatedKFold(n_splits=n_splits, n_repeats=n_repeats, random_state=42)\n",
    "\n",
    "# Initialize CatBoost baseline model\n",
    "model = CatBoostRegressor(\n",
    "    cat_features=categ_nom,\n",
    "    verbose=0,  # Suppress training output\n",
    "    random_state=42)\n",
    "\n",
    "# Lists to store the scores and RMSE values\n",
    "scores = []\n",
    "rmse_values = []\n",
    "\n",
    "# Perform the cross-validation on the TRAINING data\n",
    "for train_index, val_index in rkf.split(X_train):\n",
    "    # Split the training data into internal training and validation sets\n",
    "    X_train_fold, X_val_fold = X_train.iloc[train_index], X_train.iloc[val_index]\n",
    "    y_train_fold, y_val_fold = y_train.iloc[train_index], y_train.iloc[val_index]\n",
    "\n",
    "    # Train the model on the training fold\n",
    "    model.fit(X_train_fold, y_train_fold)\n",
    "\n",
    "    # Evaluate the model on the validation fold\n",
    "    score = model.score(X_val_fold, y_val_fold)\n",
    "    scores.append(score)\n",
    "    \n",
    "    # Calculate RMSE manually\n",
    "    y_pred_val = model.predict(X_val_fold)\n",
    "    rmse = np.sqrt(mean_squared_error(y_val_fold, y_pred_val))\n",
    "    rmse_values.append(rmse)\n",
    "\n",
    "# Calculate the average score\n",
    "average_score = np.mean(scores)\n",
    "average_rmse = np.mean(rmse_values)\n",
    "std_rmse = np.std(rmse_values)\n",
    "\n",
    "print(f\"Average baseline R-squared score: {average_score:.4f}\")\n",
    "print(f\"Average baseline RMSE: ${average_rmse:.2f}\")\n",
    "print(f\"Standard deviation of RMSE: ${std_rmse:.2f}\")"
   ]
  },
  {
   "cell_type": "markdown",
   "id": "f8565be4",
   "metadata": {},
   "source": [
    "### Hyperparameter Tuning"
   ]
  },
  {
   "cell_type": "markdown",
   "id": "24c3ac5b",
   "metadata": {},
   "source": [
    "### First, trying RandomizedSearchCV to find the best model\n",
    "- The best R squared found is 86%, not ideal"
   ]
  },
  {
   "cell_type": "code",
   "execution_count": 54,
   "id": "ee7fea36",
   "metadata": {},
   "outputs": [],
   "source": [
    "# Setting parameter grid\n",
    "param_grid = {\n",
    "    \"iterations\": [500, 800, 1000],\n",
    "    \"depth\": [4, 6, 8],\n",
    "    \"learning_rate\": [0.01, 0.05, 0.1],\n",
    "    \"l2_leaf_reg\": [1, 3, 5],\n",
    "    \"bagging_temperature\": [0.5, 1, 2],\n",
    "    \"border_count\": [32, 64, 128]\n",
    "}"
   ]
  },
  {
   "cell_type": "code",
   "execution_count": 55,
   "id": "cd438986",
   "metadata": {
    "scrolled": true
   },
   "outputs": [
    {
     "name": "stderr",
     "output_type": "stream",
     "text": [
      "/Users/erinyu/anaconda3/lib/python3.11/site-packages/joblib/externals/loky/process_executor.py:700: UserWarning:\n",
      "\n",
      "A worker stopped while some jobs were given to the executor. This can be caused by a too short worker timeout or by a memory leak.\n",
      "\n"
     ]
    },
    {
     "name": "stdout",
     "output_type": "stream",
     "text": [
      "Best CV R-squared: 0.8645086037381787\n",
      "Best Parameters: {'learning_rate': 0.05, 'l2_leaf_reg': 1, 'iterations': 800, 'depth': 6, 'border_count': 64, 'bagging_temperature': 0.5}\n"
     ]
    }
   ],
   "source": [
    "random_search = RandomizedSearchCV(\n",
    "    estimator=model,\n",
    "    param_distributions=param_grid,\n",
    "    n_iter=20,                # number of random combos to try\n",
    "    #scoring='neg_root_mean_squared_error',\n",
    "    scoring='r2',\n",
    "    cv=5,\n",
    "    random_state=42,\n",
    "    n_jobs=-1,\n",
    "    verbose=0\n",
    ")\n",
    "\n",
    "random_search.fit(X_train, y_train)\n",
    "\n",
    "print(\"Best CV R-squared:\", random_search.best_score_)\n",
    "print(\"Best Parameters:\", random_search.best_params_)"
   ]
  },
  {
   "cell_type": "markdown",
   "id": "e42e4d4a",
   "metadata": {},
   "source": [
    "### Secondly, experimenting with Optuna"
   ]
  },
  {
   "cell_type": "code",
   "execution_count": 25,
   "id": "8d8a898f",
   "metadata": {},
   "outputs": [
    {
     "name": "stdout",
     "output_type": "stream",
     "text": [
      "Collecting optuna\n",
      "  Downloading optuna-4.5.0-py3-none-any.whl.metadata (17 kB)\n",
      "Collecting alembic>=1.5.0 (from optuna)\n",
      "  Downloading alembic-1.16.5-py3-none-any.whl.metadata (7.3 kB)\n",
      "Collecting colorlog (from optuna)\n",
      "  Downloading colorlog-6.9.0-py3-none-any.whl.metadata (10 kB)\n",
      "Requirement already satisfied: numpy in /Users/erinyu/anaconda3/lib/python3.11/site-packages (from optuna) (1.26.4)\n",
      "Requirement already satisfied: packaging>=20.0 in /Users/erinyu/.local/lib/python3.11/site-packages (from optuna) (23.2)\n",
      "Requirement already satisfied: sqlalchemy>=1.4.2 in /Users/erinyu/anaconda3/lib/python3.11/site-packages (from optuna) (1.4.39)\n",
      "Requirement already satisfied: tqdm in /Users/erinyu/anaconda3/lib/python3.11/site-packages (from optuna) (4.65.0)\n",
      "Requirement already satisfied: PyYAML in /Users/erinyu/anaconda3/lib/python3.11/site-packages (from optuna) (6.0)\n",
      "Collecting Mako (from alembic>=1.5.0->optuna)\n",
      "  Downloading mako-1.3.10-py3-none-any.whl.metadata (2.9 kB)\n",
      "Collecting typing-extensions>=4.12 (from alembic>=1.5.0->optuna)\n",
      "  Downloading typing_extensions-4.15.0-py3-none-any.whl.metadata (3.3 kB)\n",
      "Requirement already satisfied: MarkupSafe>=0.9.2 in /Users/erinyu/anaconda3/lib/python3.11/site-packages (from Mako->alembic>=1.5.0->optuna) (2.1.1)\n",
      "Downloading optuna-4.5.0-py3-none-any.whl (400 kB)\n",
      "Downloading alembic-1.16.5-py3-none-any.whl (247 kB)\n",
      "Downloading typing_extensions-4.15.0-py3-none-any.whl (44 kB)\n",
      "Downloading colorlog-6.9.0-py3-none-any.whl (11 kB)\n",
      "Downloading mako-1.3.10-py3-none-any.whl (78 kB)\n",
      "Installing collected packages: typing-extensions, Mako, colorlog, alembic, optuna\n",
      "\u001b[2K  Attempting uninstall: typing-extensions\n",
      "\u001b[2K    Found existing installation: typing_extensions 4.8.0\n",
      "\u001b[2K    Uninstalling typing_extensions-4.8.0:\n",
      "\u001b[2K      Successfully uninstalled typing_extensions-4.8.0\n",
      "\u001b[2K   \u001b[90m━━━━━━━━━━━━━━━━━━━━━━━━━━━━━━━━━━━━━━━━\u001b[0m \u001b[32m5/5\u001b[0m [optuna]2m4/5\u001b[0m [optuna]]\n",
      "\u001b[1A\u001b[2K\u001b[31mERROR: pip's dependency resolver does not currently take into account all the packages that are installed. This behaviour is the source of the following dependency conflicts.\n",
      "datasets 2.12.0 requires pyarrow>=8.0.0, which is not installed.\n",
      "edgartools 2.10.1 requires pyarrow>=14.0.0, which is not installed.\u001b[0m\u001b[31m\n",
      "\u001b[0mSuccessfully installed Mako-1.3.10 alembic-1.16.5 colorlog-6.9.0 optuna-4.5.0 typing-extensions-4.15.0\n",
      "\n",
      "\u001b[1m[\u001b[0m\u001b[34;49mnotice\u001b[0m\u001b[1;39;49m]\u001b[0m\u001b[39;49m A new release of pip is available: \u001b[0m\u001b[31;49m25.1.1\u001b[0m\u001b[39;49m -> \u001b[0m\u001b[32;49m25.2\u001b[0m\n",
      "\u001b[1m[\u001b[0m\u001b[34;49mnotice\u001b[0m\u001b[1;39;49m]\u001b[0m\u001b[39;49m To update, run: \u001b[0m\u001b[32;49mpip install --upgrade pip\u001b[0m\n"
     ]
    }
   ],
   "source": [
    "#!pip install optuna"
   ]
  },
  {
   "cell_type": "code",
   "execution_count": 26,
   "id": "8152751a",
   "metadata": {},
   "outputs": [],
   "source": [
    "import optuna\n",
    "from optuna.samplers import TPESampler"
   ]
  },
  {
   "cell_type": "code",
   "execution_count": 34,
   "id": "eea69e42",
   "metadata": {},
   "outputs": [],
   "source": [
    "# It's a good practice to set up logging to see Optuna's progress\n",
    "optuna.logging.set_verbosity(optuna.logging.INFO)\n",
    "\n",
    "#X_tra, X_val, y_tra, y_val\n",
    "def objective(trial, X_tra, X_val, y_tra, y_val):\n",
    "    \"\"\"\n",
    "    This function defines the search space for Optuna. It suggests hyperparameters,\n",
    "    trains the model on the training set, evaluates it on the test set, and returns\n",
    "    a single value to be optimized (R-squared score).\n",
    "\n",
    "    Args:\n",
    "        trial (optuna.trial.Trial): The trial object that suggests hyperparameters.\n",
    "        X_tra (pd.DataFrame): Training feature matrix.\n",
    "        X_val (pd.DataFrame): Testing feature matrix.\n",
    "        y_tra (pd.Series): Training target vector.\n",
    "        y_val (pd.Series): Testing target vector.\n",
    "\n",
    "    Returns:\n",
    "        float: The R-squared score on the test set.\n",
    "    \"\"\"\n",
    "    # Define the search space for the hyperparameters using trial.suggest_...\n",
    "    param = {\n",
    "        # 'iterations': The number of boosting iterations (trees).\n",
    "        'iterations': trial.suggest_int('iterations', 500, 1500, step=100),\n",
    "        \n",
    "        # 'depth': The depth of the trees.\n",
    "        'depth': trial.suggest_int('depth', 4, 10),\n",
    "        \n",
    "        # 'learning_rate': The step size shrinkage.\n",
    "        'learning_rate': trial.suggest_loguniform('learning_rate', 0.01, 0.2),\n",
    "        \n",
    "        # 'l2_leaf_reg': The L2 regularization coefficient.\n",
    "        'l2_leaf_reg': trial.suggest_float('l2_leaf_reg', 1, 10),\n",
    "        \n",
    "        # 'bagging_temperature': The bagging temperature for feature subsampling.\n",
    "        'bagging_temperature': trial.suggest_float('bagging_temperature', 0.5, 5),\n",
    "        \n",
    "        # 'border_count': The number of splits for float features.\n",
    "        'border_count': trial.suggest_int('border_count', 32, 255),\n",
    "        \n",
    "        # 'random_seed': Use a fixed seed for reproducibility across trials.\n",
    "        'random_seed': 42,\n",
    "        'verbose': 0\n",
    "    }\n",
    "\n",
    "    # Initialize the CatBoost Regressor with the parameters suggested by the trial\n",
    "    model = CatBoostRegressor(**param, cat_features=categ_nom)\n",
    "\n",
    "    # Train the model on the training data.\n",
    "    # We use the test set as the evaluation set to allow for early stopping,\n",
    "    # which can prevent overfitting and save time.\n",
    "    model.fit(X_tra, y_tra, eval_set=[(X_val, y_val)], early_stopping_rounds=50, verbose=0)\n",
    "\n",
    "    # Make predictions on the test data\n",
    "    y_pred = model.predict(X_val)\n",
    "    \n",
    "    # Calculate the R-squared score on the test set\n",
    "    r2 = r2_score(y_val, y_pred)\n",
    "\n",
    "    # Optuna needs a single value to optimize, so we return the R-squared score\n",
    "    return r2"
   ]
  },
  {
   "cell_type": "code",
   "execution_count": 35,
   "id": "42c5bd59",
   "metadata": {},
   "outputs": [
    {
     "name": "stderr",
     "output_type": "stream",
     "text": [
      "[I 2025-09-11 15:36:52,239] A new study created in memory with name: no-name-175d886a-6373-4e1b-9101-8096049ccea3\n",
      "/var/folders/4s/xd_3ly695k1gl73bn_9m85j40000gn/T/ipykernel_5317/2676129936.py:30: FutureWarning:\n",
      "\n",
      "suggest_loguniform has been deprecated in v3.0.0. This feature will be removed in v6.0.0. See https://github.com/optuna/optuna/releases/tag/v3.0.0. Use suggest_float(..., log=True) instead.\n",
      "\n"
     ]
    },
    {
     "name": "stdout",
     "output_type": "stream",
     "text": [
      "Starting Optuna optimization for hyperparameter tuning...\n"
     ]
    },
    {
     "name": "stderr",
     "output_type": "stream",
     "text": [
      "[I 2025-09-11 15:37:00,517] Trial 0 finished with value: 0.9212715013412772 and parameters: {'iterations': 900, 'depth': 10, 'learning_rate': 0.08960785365368121, 'l2_leaf_reg': 6.387926357773329, 'bagging_temperature': 1.2020838819909643, 'border_count': 66}. Best is trial 0 with value: 0.9212715013412772.\n",
      "/var/folders/4s/xd_3ly695k1gl73bn_9m85j40000gn/T/ipykernel_5317/2676129936.py:30: FutureWarning:\n",
      "\n",
      "suggest_loguniform has been deprecated in v3.0.0. This feature will be removed in v6.0.0. See https://github.com/optuna/optuna/releases/tag/v3.0.0. Use suggest_float(..., log=True) instead.\n",
      "\n",
      "[I 2025-09-11 15:37:08,910] Trial 1 finished with value: 0.9192064405393113 and parameters: {'iterations': 500, 'depth': 10, 'learning_rate': 0.06054365855469246, 'l2_leaf_reg': 7.372653200164409, 'bagging_temperature': 0.592630224331111, 'border_count': 249}. Best is trial 0 with value: 0.9212715013412772.\n",
      "/var/folders/4s/xd_3ly695k1gl73bn_9m85j40000gn/T/ipykernel_5317/2676129936.py:30: FutureWarning:\n",
      "\n",
      "suggest_loguniform has been deprecated in v3.0.0. This feature will be removed in v6.0.0. See https://github.com/optuna/optuna/releases/tag/v3.0.0. Use suggest_float(..., log=True) instead.\n",
      "\n",
      "[I 2025-09-11 15:37:12,039] Trial 2 finished with value: 0.9291588151755528 and parameters: {'iterations': 1400, 'depth': 5, 'learning_rate': 0.017240892195821537, 'l2_leaf_reg': 2.650640588680904, 'bagging_temperature': 1.8690900933179198, 'border_count': 149}. Best is trial 2 with value: 0.9291588151755528.\n",
      "/var/folders/4s/xd_3ly695k1gl73bn_9m85j40000gn/T/ipykernel_5317/2676129936.py:30: FutureWarning:\n",
      "\n",
      "suggest_loguniform has been deprecated in v3.0.0. This feature will be removed in v6.0.0. See https://github.com/optuna/optuna/releases/tag/v3.0.0. Use suggest_float(..., log=True) instead.\n",
      "\n",
      "[I 2025-09-11 15:37:13,201] Trial 3 finished with value: 0.9259196332029992 and parameters: {'iterations': 900, 'depth': 6, 'learning_rate': 0.06252287916406217, 'l2_leaf_reg': 2.2554447458683766, 'bagging_temperature': 1.8146509184084816, 'border_count': 114}. Best is trial 2 with value: 0.9291588151755528.\n",
      "/var/folders/4s/xd_3ly695k1gl73bn_9m85j40000gn/T/ipykernel_5317/2676129936.py:30: FutureWarning:\n",
      "\n",
      "suggest_loguniform has been deprecated in v3.0.0. This feature will be removed in v6.0.0. See https://github.com/optuna/optuna/releases/tag/v3.0.0. Use suggest_float(..., log=True) instead.\n",
      "\n",
      "[I 2025-09-11 15:37:27,915] Trial 4 finished with value: 0.9238347992380238 and parameters: {'iterations': 1000, 'depth': 9, 'learning_rate': 0.018187859051288217, 'l2_leaf_reg': 5.628109945722504, 'bagging_temperature': 3.165865559879191, 'border_count': 42}. Best is trial 2 with value: 0.9291588151755528.\n",
      "/var/folders/4s/xd_3ly695k1gl73bn_9m85j40000gn/T/ipykernel_5317/2676129936.py:30: FutureWarning:\n",
      "\n",
      "suggest_loguniform has been deprecated in v3.0.0. This feature will be removed in v6.0.0. See https://github.com/optuna/optuna/releases/tag/v3.0.0. Use suggest_float(..., log=True) instead.\n",
      "\n",
      "[I 2025-09-11 15:37:31,700] Trial 5 finished with value: 0.9145217427635244 and parameters: {'iterations': 1100, 'depth': 5, 'learning_rate': 0.012151617026673379, 'l2_leaf_reg': 9.539969835279999, 'bagging_temperature': 4.845344148835517, 'border_count': 213}. Best is trial 2 with value: 0.9291588151755528.\n",
      "/var/folders/4s/xd_3ly695k1gl73bn_9m85j40000gn/T/ipykernel_5317/2676129936.py:30: FutureWarning:\n",
      "\n",
      "suggest_loguniform has been deprecated in v3.0.0. This feature will be removed in v6.0.0. See https://github.com/optuna/optuna/releases/tag/v3.0.0. Use suggest_float(..., log=True) instead.\n",
      "\n",
      "[I 2025-09-11 15:37:32,502] Trial 6 finished with value: 0.9185676393862137 and parameters: {'iterations': 800, 'depth': 4, 'learning_rate': 0.07766184280392888, 'l2_leaf_reg': 4.961372443656412, 'bagging_temperature': 1.0491720568015048, 'border_count': 142}. Best is trial 2 with value: 0.9291588151755528.\n",
      "/var/folders/4s/xd_3ly695k1gl73bn_9m85j40000gn/T/ipykernel_5317/2676129936.py:30: FutureWarning:\n",
      "\n",
      "suggest_loguniform has been deprecated in v3.0.0. This feature will be removed in v6.0.0. See https://github.com/optuna/optuna/releases/tag/v3.0.0. Use suggest_float(..., log=True) instead.\n",
      "\n",
      "[I 2025-09-11 15:37:39,242] Trial 7 finished with value: 0.9108210248012835 and parameters: {'iterations': 500, 'depth': 10, 'learning_rate': 0.02171103454376615, 'l2_leaf_reg': 6.962700559185838, 'bagging_temperature': 1.9026998424023494, 'border_count': 148}. Best is trial 2 with value: 0.9291588151755528.\n",
      "/var/folders/4s/xd_3ly695k1gl73bn_9m85j40000gn/T/ipykernel_5317/2676129936.py:30: FutureWarning:\n",
      "\n",
      "suggest_loguniform has been deprecated in v3.0.0. This feature will be removed in v6.0.0. See https://github.com/optuna/optuna/releases/tag/v3.0.0. Use suggest_float(..., log=True) instead.\n",
      "\n",
      "[I 2025-09-11 15:37:40,753] Trial 8 finished with value: 0.9254031140307885 and parameters: {'iterations': 1100, 'depth': 5, 'learning_rate': 0.18258230439200238, 'l2_leaf_reg': 7.976195410250031, 'bagging_temperature': 4.727745237038851, 'border_count': 232}. Best is trial 2 with value: 0.9291588151755528.\n",
      "/var/folders/4s/xd_3ly695k1gl73bn_9m85j40000gn/T/ipykernel_5317/2676129936.py:30: FutureWarning:\n",
      "\n",
      "suggest_loguniform has been deprecated in v3.0.0. This feature will be removed in v6.0.0. See https://github.com/optuna/optuna/releases/tag/v3.0.0. Use suggest_float(..., log=True) instead.\n",
      "\n",
      "[I 2025-09-11 15:37:57,310] Trial 9 finished with value: 0.9188325491752346 and parameters: {'iterations': 1100, 'depth': 10, 'learning_rate': 0.01303561122512888, 'l2_leaf_reg': 2.763845761772307, 'bagging_temperature': 0.7035228000974213, 'border_count': 104}. Best is trial 2 with value: 0.9291588151755528.\n",
      "/var/folders/4s/xd_3ly695k1gl73bn_9m85j40000gn/T/ipykernel_5317/2676129936.py:30: FutureWarning:\n",
      "\n",
      "suggest_loguniform has been deprecated in v3.0.0. This feature will be removed in v6.0.0. See https://github.com/optuna/optuna/releases/tag/v3.0.0. Use suggest_float(..., log=True) instead.\n",
      "\n",
      "[I 2025-09-11 15:38:03,750] Trial 10 finished with value: 0.929231737653128 and parameters: {'iterations': 1500, 'depth': 7, 'learning_rate': 0.030180553031924535, 'l2_leaf_reg': 1.1616568805333767, 'bagging_temperature': 3.22642275544852, 'border_count': 186}. Best is trial 10 with value: 0.929231737653128.\n",
      "/var/folders/4s/xd_3ly695k1gl73bn_9m85j40000gn/T/ipykernel_5317/2676129936.py:30: FutureWarning:\n",
      "\n",
      "suggest_loguniform has been deprecated in v3.0.0. This feature will be removed in v6.0.0. See https://github.com/optuna/optuna/releases/tag/v3.0.0. Use suggest_float(..., log=True) instead.\n",
      "\n",
      "[I 2025-09-11 15:38:06,905] Trial 11 finished with value: 0.9312360120710792 and parameters: {'iterations': 1500, 'depth': 7, 'learning_rate': 0.02931620832512613, 'l2_leaf_reg': 1.0339182502403144, 'bagging_temperature': 3.4051539904291785, 'border_count': 188}. Best is trial 11 with value: 0.9312360120710792.\n",
      "/var/folders/4s/xd_3ly695k1gl73bn_9m85j40000gn/T/ipykernel_5317/2676129936.py:30: FutureWarning:\n",
      "\n",
      "suggest_loguniform has been deprecated in v3.0.0. This feature will be removed in v6.0.0. See https://github.com/optuna/optuna/releases/tag/v3.0.0. Use suggest_float(..., log=True) instead.\n",
      "\n",
      "[I 2025-09-11 15:38:12,856] Trial 12 finished with value: 0.9274197262515627 and parameters: {'iterations': 1500, 'depth': 8, 'learning_rate': 0.03394020874066331, 'l2_leaf_reg': 1.095700000506303, 'bagging_temperature': 3.470339562840171, 'border_count': 188}. Best is trial 11 with value: 0.9312360120710792.\n",
      "/var/folders/4s/xd_3ly695k1gl73bn_9m85j40000gn/T/ipykernel_5317/2676129936.py:30: FutureWarning:\n",
      "\n",
      "suggest_loguniform has been deprecated in v3.0.0. This feature will be removed in v6.0.0. See https://github.com/optuna/optuna/releases/tag/v3.0.0. Use suggest_float(..., log=True) instead.\n",
      "\n",
      "[I 2025-09-11 15:38:15,789] Trial 13 finished with value: 0.9187407413773688 and parameters: {'iterations': 1300, 'depth': 7, 'learning_rate': 0.03450082233987606, 'l2_leaf_reg': 4.1107152506533, 'bagging_temperature': 3.972488644656222, 'border_count': 187}. Best is trial 11 with value: 0.9312360120710792.\n",
      "/var/folders/4s/xd_3ly695k1gl73bn_9m85j40000gn/T/ipykernel_5317/2676129936.py:30: FutureWarning:\n",
      "\n",
      "suggest_loguniform has been deprecated in v3.0.0. This feature will be removed in v6.0.0. See https://github.com/optuna/optuna/releases/tag/v3.0.0. Use suggest_float(..., log=True) instead.\n",
      "\n"
     ]
    },
    {
     "name": "stderr",
     "output_type": "stream",
     "text": [
      "[I 2025-09-11 15:38:19,496] Trial 14 finished with value: 0.9299609900481027 and parameters: {'iterations': 1300, 'depth': 7, 'learning_rate': 0.03125863178903644, 'l2_leaf_reg': 1.087478880099385, 'bagging_temperature': 2.6163459486082, 'border_count': 197}. Best is trial 11 with value: 0.9312360120710792.\n",
      "/var/folders/4s/xd_3ly695k1gl73bn_9m85j40000gn/T/ipykernel_5317/2676129936.py:30: FutureWarning:\n",
      "\n",
      "suggest_loguniform has been deprecated in v3.0.0. This feature will be removed in v6.0.0. See https://github.com/optuna/optuna/releases/tag/v3.0.0. Use suggest_float(..., log=True) instead.\n",
      "\n",
      "[I 2025-09-11 15:38:25,311] Trial 15 finished with value: 0.9218582975347922 and parameters: {'iterations': 1300, 'depth': 8, 'learning_rate': 0.044785126644304896, 'l2_leaf_reg': 3.6396585625196165, 'bagging_temperature': 2.3719264768066717, 'border_count': 205}. Best is trial 11 with value: 0.9312360120710792.\n",
      "/var/folders/4s/xd_3ly695k1gl73bn_9m85j40000gn/T/ipykernel_5317/2676129936.py:30: FutureWarning:\n",
      "\n",
      "suggest_loguniform has been deprecated in v3.0.0. This feature will be removed in v6.0.0. See https://github.com/optuna/optuna/releases/tag/v3.0.0. Use suggest_float(..., log=True) instead.\n",
      "\n",
      "[I 2025-09-11 15:38:27,483] Trial 16 finished with value: 0.9265201126406545 and parameters: {'iterations': 1300, 'depth': 8, 'learning_rate': 0.129194157799837, 'l2_leaf_reg': 1.8924874408333467, 'bagging_temperature': 4.013010580746171, 'border_count': 169}. Best is trial 11 with value: 0.9312360120710792.\n",
      "/var/folders/4s/xd_3ly695k1gl73bn_9m85j40000gn/T/ipykernel_5317/2676129936.py:30: FutureWarning:\n",
      "\n",
      "suggest_loguniform has been deprecated in v3.0.0. This feature will be removed in v6.0.0. See https://github.com/optuna/optuna/releases/tag/v3.0.0. Use suggest_float(..., log=True) instead.\n",
      "\n",
      "[I 2025-09-11 15:38:29,991] Trial 17 finished with value: 0.9250402935045146 and parameters: {'iterations': 1400, 'depth': 6, 'learning_rate': 0.024649780193462298, 'l2_leaf_reg': 3.5509617443872044, 'bagging_temperature': 2.553526313094802, 'border_count': 249}. Best is trial 11 with value: 0.9312360120710792.\n",
      "/var/folders/4s/xd_3ly695k1gl73bn_9m85j40000gn/T/ipykernel_5317/2676129936.py:30: FutureWarning:\n",
      "\n",
      "suggest_loguniform has been deprecated in v3.0.0. This feature will be removed in v6.0.0. See https://github.com/optuna/optuna/releases/tag/v3.0.0. Use suggest_float(..., log=True) instead.\n",
      "\n",
      "[I 2025-09-11 15:38:31,600] Trial 18 finished with value: 0.9223185848594657 and parameters: {'iterations': 1200, 'depth': 6, 'learning_rate': 0.05173964927619493, 'l2_leaf_reg': 4.470072743442713, 'bagging_temperature': 3.924774135489815, 'border_count': 219}. Best is trial 11 with value: 0.9312360120710792.\n",
      "/var/folders/4s/xd_3ly695k1gl73bn_9m85j40000gn/T/ipykernel_5317/2676129936.py:30: FutureWarning:\n",
      "\n",
      "suggest_loguniform has been deprecated in v3.0.0. This feature will be removed in v6.0.0. See https://github.com/optuna/optuna/releases/tag/v3.0.0. Use suggest_float(..., log=True) instead.\n",
      "\n",
      "[I 2025-09-11 15:38:38,788] Trial 19 finished with value: 0.9286024949462802 and parameters: {'iterations': 1500, 'depth': 7, 'learning_rate': 0.010074889735552865, 'l2_leaf_reg': 1.042174859622008, 'bagging_temperature': 3.031307856614037, 'border_count': 168}. Best is trial 11 with value: 0.9312360120710792.\n",
      "/var/folders/4s/xd_3ly695k1gl73bn_9m85j40000gn/T/ipykernel_5317/2676129936.py:30: FutureWarning:\n",
      "\n",
      "suggest_loguniform has been deprecated in v3.0.0. This feature will be removed in v6.0.0. See https://github.com/optuna/optuna/releases/tag/v3.0.0. Use suggest_float(..., log=True) instead.\n",
      "\n",
      "[I 2025-09-11 15:38:49,157] Trial 20 finished with value: 0.9194641932365359 and parameters: {'iterations': 1400, 'depth': 9, 'learning_rate': 0.038860768732612266, 'l2_leaf_reg': 3.148045213759352, 'bagging_temperature': 2.462927769666657, 'border_count': 122}. Best is trial 11 with value: 0.9312360120710792.\n",
      "/var/folders/4s/xd_3ly695k1gl73bn_9m85j40000gn/T/ipykernel_5317/2676129936.py:30: FutureWarning:\n",
      "\n",
      "suggest_loguniform has been deprecated in v3.0.0. This feature will be removed in v6.0.0. See https://github.com/optuna/optuna/releases/tag/v3.0.0. Use suggest_float(..., log=True) instead.\n",
      "\n",
      "[I 2025-09-11 15:38:52,362] Trial 21 finished with value: 0.922433010522589 and parameters: {'iterations': 1500, 'depth': 7, 'learning_rate': 0.02712667322252304, 'l2_leaf_reg': 1.4770178765932758, 'bagging_temperature': 3.487219418201641, 'border_count': 187}. Best is trial 11 with value: 0.9312360120710792.\n",
      "/var/folders/4s/xd_3ly695k1gl73bn_9m85j40000gn/T/ipykernel_5317/2676129936.py:30: FutureWarning:\n",
      "\n",
      "suggest_loguniform has been deprecated in v3.0.0. This feature will be removed in v6.0.0. See https://github.com/optuna/optuna/releases/tag/v3.0.0. Use suggest_float(..., log=True) instead.\n",
      "\n",
      "[I 2025-09-11 15:38:59,748] Trial 22 finished with value: 0.9296238316165357 and parameters: {'iterations': 1500, 'depth': 8, 'learning_rate': 0.029387744331101553, 'l2_leaf_reg': 1.83272957265441, 'bagging_temperature': 2.9307381326461384, 'border_count': 199}. Best is trial 11 with value: 0.9312360120710792.\n",
      "/var/folders/4s/xd_3ly695k1gl73bn_9m85j40000gn/T/ipykernel_5317/2676129936.py:30: FutureWarning:\n",
      "\n",
      "suggest_loguniform has been deprecated in v3.0.0. This feature will be removed in v6.0.0. See https://github.com/optuna/optuna/releases/tag/v3.0.0. Use suggest_float(..., log=True) instead.\n",
      "\n",
      "[I 2025-09-11 15:39:08,928] Trial 23 finished with value: 0.9258237377841463 and parameters: {'iterations': 1400, 'depth': 8, 'learning_rate': 0.019820348653570522, 'l2_leaf_reg': 1.8310139168561328, 'bagging_temperature': 2.830512089962234, 'border_count': 229}. Best is trial 11 with value: 0.9312360120710792.\n",
      "/var/folders/4s/xd_3ly695k1gl73bn_9m85j40000gn/T/ipykernel_5317/2676129936.py:30: FutureWarning:\n",
      "\n",
      "suggest_loguniform has been deprecated in v3.0.0. This feature will be removed in v6.0.0. See https://github.com/optuna/optuna/releases/tag/v3.0.0. Use suggest_float(..., log=True) instead.\n",
      "\n",
      "[I 2025-09-11 15:39:16,521] Trial 24 finished with value: 0.9224661092790161 and parameters: {'iterations': 1200, 'depth': 9, 'learning_rate': 0.044296736615071754, 'l2_leaf_reg': 2.2474246005050302, 'bagging_temperature': 2.25520257135317, 'border_count': 203}. Best is trial 11 with value: 0.9312360120710792.\n",
      "/var/folders/4s/xd_3ly695k1gl73bn_9m85j40000gn/T/ipykernel_5317/2676129936.py:30: FutureWarning:\n",
      "\n",
      "suggest_loguniform has been deprecated in v3.0.0. This feature will be removed in v6.0.0. See https://github.com/optuna/optuna/releases/tag/v3.0.0. Use suggest_float(..., log=True) instead.\n",
      "\n",
      "[I 2025-09-11 15:39:20,879] Trial 25 finished with value: 0.9296237990965857 and parameters: {'iterations': 1300, 'depth': 6, 'learning_rate': 0.015545025762510342, 'l2_leaf_reg': 2.0225652980416458, 'bagging_temperature': 4.3472451121116755, 'border_count': 166}. Best is trial 11 with value: 0.9312360120710792.\n",
      "/var/folders/4s/xd_3ly695k1gl73bn_9m85j40000gn/T/ipykernel_5317/2676129936.py:30: FutureWarning:\n",
      "\n",
      "suggest_loguniform has been deprecated in v3.0.0. This feature will be removed in v6.0.0. See https://github.com/optuna/optuna/releases/tag/v3.0.0. Use suggest_float(..., log=True) instead.\n",
      "\n",
      "[I 2025-09-11 15:39:27,279] Trial 26 finished with value: 0.9212371972338224 and parameters: {'iterations': 1500, 'depth': 8, 'learning_rate': 0.02513438520278052, 'l2_leaf_reg': 3.1727017219121247, 'bagging_temperature': 3.580751710596658, 'border_count': 228}. Best is trial 11 with value: 0.9312360120710792.\n",
      "/var/folders/4s/xd_3ly695k1gl73bn_9m85j40000gn/T/ipykernel_5317/2676129936.py:30: FutureWarning:\n",
      "\n",
      "suggest_loguniform has been deprecated in v3.0.0. This feature will be removed in v6.0.0. See https://github.com/optuna/optuna/releases/tag/v3.0.0. Use suggest_float(..., log=True) instead.\n",
      "\n",
      "[I 2025-09-11 15:39:31,265] Trial 27 finished with value: 0.9255627130648015 and parameters: {'iterations': 1200, 'depth': 7, 'learning_rate': 0.029040040237490825, 'l2_leaf_reg': 2.57596595977141, 'bagging_temperature': 2.754679519788828, 'border_count': 202}. Best is trial 11 with value: 0.9312360120710792.\n",
      "/var/folders/4s/xd_3ly695k1gl73bn_9m85j40000gn/T/ipykernel_5317/2676129936.py:30: FutureWarning:\n",
      "\n",
      "suggest_loguniform has been deprecated in v3.0.0. This feature will be removed in v6.0.0. See https://github.com/optuna/optuna/releases/tag/v3.0.0. Use suggest_float(..., log=True) instead.\n",
      "\n"
     ]
    },
    {
     "name": "stderr",
     "output_type": "stream",
     "text": [
      "[I 2025-09-11 15:39:42,262] Trial 28 finished with value: 0.9245352204693663 and parameters: {'iterations': 700, 'depth': 9, 'learning_rate': 0.03686274807234886, 'l2_leaf_reg': 1.6845620016573455, 'bagging_temperature': 2.115001713169667, 'border_count': 173}. Best is trial 11 with value: 0.9312360120710792.\n",
      "/var/folders/4s/xd_3ly695k1gl73bn_9m85j40000gn/T/ipykernel_5317/2676129936.py:30: FutureWarning:\n",
      "\n",
      "suggest_loguniform has been deprecated in v3.0.0. This feature will be removed in v6.0.0. See https://github.com/optuna/optuna/releases/tag/v3.0.0. Use suggest_float(..., log=True) instead.\n",
      "\n",
      "[I 2025-09-11 15:39:43,925] Trial 29 finished with value: 0.9264475751592268 and parameters: {'iterations': 1400, 'depth': 8, 'learning_rate': 0.11436167596055491, 'l2_leaf_reg': 6.1291492806676615, 'bagging_temperature': 1.2395464363677615, 'border_count': 93}. Best is trial 11 with value: 0.9312360120710792.\n",
      "/var/folders/4s/xd_3ly695k1gl73bn_9m85j40000gn/T/ipykernel_5317/2676129936.py:30: FutureWarning:\n",
      "\n",
      "suggest_loguniform has been deprecated in v3.0.0. This feature will be removed in v6.0.0. See https://github.com/optuna/optuna/releases/tag/v3.0.0. Use suggest_float(..., log=True) instead.\n",
      "\n",
      "[I 2025-09-11 15:39:45,699] Trial 30 finished with value: 0.9240872370536789 and parameters: {'iterations': 1300, 'depth': 6, 'learning_rate': 0.07203173711437275, 'l2_leaf_reg': 4.126063413742276, 'bagging_temperature': 2.9530954092293897, 'border_count': 136}. Best is trial 11 with value: 0.9312360120710792.\n",
      "/var/folders/4s/xd_3ly695k1gl73bn_9m85j40000gn/T/ipykernel_5317/2676129936.py:30: FutureWarning:\n",
      "\n",
      "suggest_loguniform has been deprecated in v3.0.0. This feature will be removed in v6.0.0. See https://github.com/optuna/optuna/releases/tag/v3.0.0. Use suggest_float(..., log=True) instead.\n",
      "\n",
      "[I 2025-09-11 15:39:50,608] Trial 31 finished with value: 0.9264534016962258 and parameters: {'iterations': 1300, 'depth': 6, 'learning_rate': 0.01543468999288452, 'l2_leaf_reg': 1.8231359942395025, 'bagging_temperature': 4.449798553534004, 'border_count': 157}. Best is trial 11 with value: 0.9312360120710792.\n",
      "/var/folders/4s/xd_3ly695k1gl73bn_9m85j40000gn/T/ipykernel_5317/2676129936.py:30: FutureWarning:\n",
      "\n",
      "suggest_loguniform has been deprecated in v3.0.0. This feature will be removed in v6.0.0. See https://github.com/optuna/optuna/releases/tag/v3.0.0. Use suggest_float(..., log=True) instead.\n",
      "\n",
      "[I 2025-09-11 15:39:55,913] Trial 32 finished with value: 0.9264711193400225 and parameters: {'iterations': 1400, 'depth': 7, 'learning_rate': 0.02194549187325917, 'l2_leaf_reg': 1.0763006466185376, 'bagging_temperature': 4.195604639302168, 'border_count': 164}. Best is trial 11 with value: 0.9312360120710792.\n",
      "/var/folders/4s/xd_3ly695k1gl73bn_9m85j40000gn/T/ipykernel_5317/2676129936.py:30: FutureWarning:\n",
      "\n",
      "suggest_loguniform has been deprecated in v3.0.0. This feature will be removed in v6.0.0. See https://github.com/optuna/optuna/releases/tag/v3.0.0. Use suggest_float(..., log=True) instead.\n",
      "\n",
      "[I 2025-09-11 15:40:00,349] Trial 33 finished with value: 0.9265414448894127 and parameters: {'iterations': 1200, 'depth': 6, 'learning_rate': 0.014970001542274163, 'l2_leaf_reg': 2.110598516960086, 'bagging_temperature': 3.728601550214336, 'border_count': 195}. Best is trial 11 with value: 0.9312360120710792.\n",
      "/var/folders/4s/xd_3ly695k1gl73bn_9m85j40000gn/T/ipykernel_5317/2676129936.py:30: FutureWarning:\n",
      "\n",
      "suggest_loguniform has been deprecated in v3.0.0. This feature will be removed in v6.0.0. See https://github.com/optuna/optuna/releases/tag/v3.0.0. Use suggest_float(..., log=True) instead.\n",
      "\n",
      "[I 2025-09-11 15:40:02,694] Trial 34 finished with value: 0.9267894161224293 and parameters: {'iterations': 1500, 'depth': 7, 'learning_rate': 0.04836764636797217, 'l2_leaf_reg': 2.664631778550386, 'bagging_temperature': 4.550742171519233, 'border_count': 174}. Best is trial 11 with value: 0.9312360120710792.\n",
      "/var/folders/4s/xd_3ly695k1gl73bn_9m85j40000gn/T/ipykernel_5317/2676129936.py:30: FutureWarning:\n",
      "\n",
      "suggest_loguniform has been deprecated in v3.0.0. This feature will be removed in v6.0.0. See https://github.com/optuna/optuna/releases/tag/v3.0.0. Use suggest_float(..., log=True) instead.\n",
      "\n",
      "[I 2025-09-11 15:40:03,608] Trial 35 finished with value: 0.9269277259278418 and parameters: {'iterations': 1000, 'depth': 4, 'learning_rate': 0.05525445933273461, 'l2_leaf_reg': 1.5374612628091828, 'bagging_temperature': 3.2831860424256805, 'border_count': 130}. Best is trial 11 with value: 0.9312360120710792.\n",
      "/var/folders/4s/xd_3ly695k1gl73bn_9m85j40000gn/T/ipykernel_5317/2676129936.py:30: FutureWarning:\n",
      "\n",
      "suggest_loguniform has been deprecated in v3.0.0. This feature will be removed in v6.0.0. See https://github.com/optuna/optuna/releases/tag/v3.0.0. Use suggest_float(..., log=True) instead.\n",
      "\n",
      "[I 2025-09-11 15:40:05,951] Trial 36 finished with value: 0.9265040296751504 and parameters: {'iterations': 1400, 'depth': 5, 'learning_rate': 0.016384901490652092, 'l2_leaf_reg': 2.395075116656333, 'bagging_temperature': 1.5368094089293374, 'border_count': 216}. Best is trial 11 with value: 0.9312360120710792.\n",
      "/var/folders/4s/xd_3ly695k1gl73bn_9m85j40000gn/T/ipykernel_5317/2676129936.py:30: FutureWarning:\n",
      "\n",
      "suggest_loguniform has been deprecated in v3.0.0. This feature will be removed in v6.0.0. See https://github.com/optuna/optuna/releases/tag/v3.0.0. Use suggest_float(..., log=True) instead.\n",
      "\n",
      "[I 2025-09-11 15:40:12,537] Trial 37 finished with value: 0.9141211497345554 and parameters: {'iterations': 1000, 'depth': 7, 'learning_rate': 0.010148023363006676, 'l2_leaf_reg': 8.986989140370374, 'bagging_temperature': 4.302892371136717, 'border_count': 246}. Best is trial 11 with value: 0.9312360120710792.\n",
      "/var/folders/4s/xd_3ly695k1gl73bn_9m85j40000gn/T/ipykernel_5317/2676129936.py:30: FutureWarning:\n",
      "\n",
      "suggest_loguniform has been deprecated in v3.0.0. This feature will be removed in v6.0.0. See https://github.com/optuna/optuna/releases/tag/v3.0.0. Use suggest_float(..., log=True) instead.\n",
      "\n",
      "[I 2025-09-11 15:40:16,758] Trial 38 finished with value: 0.9326364570911319 and parameters: {'iterations': 900, 'depth': 6, 'learning_rate': 0.01883192839173318, 'l2_leaf_reg': 3.0635491593451083, 'bagging_temperature': 2.6320745989380328, 'border_count': 74}. Best is trial 38 with value: 0.9326364570911319.\n",
      "/var/folders/4s/xd_3ly695k1gl73bn_9m85j40000gn/T/ipykernel_5317/2676129936.py:30: FutureWarning:\n",
      "\n",
      "suggest_loguniform has been deprecated in v3.0.0. This feature will be removed in v6.0.0. See https://github.com/optuna/optuna/releases/tag/v3.0.0. Use suggest_float(..., log=True) instead.\n",
      "\n",
      "[I 2025-09-11 15:40:19,871] Trial 39 finished with value: 0.9282354957007128 and parameters: {'iterations': 900, 'depth': 5, 'learning_rate': 0.020179960417325428, 'l2_leaf_reg': 5.08799516411065, 'bagging_temperature': 2.6218025214643745, 'border_count': 34}. Best is trial 38 with value: 0.9326364570911319.\n",
      "/var/folders/4s/xd_3ly695k1gl73bn_9m85j40000gn/T/ipykernel_5317/2676129936.py:30: FutureWarning:\n",
      "\n",
      "suggest_loguniform has been deprecated in v3.0.0. This feature will be removed in v6.0.0. See https://github.com/optuna/optuna/releases/tag/v3.0.0. Use suggest_float(..., log=True) instead.\n",
      "\n",
      "[I 2025-09-11 15:40:26,994] Trial 40 finished with value: 0.9246821484715111 and parameters: {'iterations': 900, 'depth': 8, 'learning_rate': 0.03173703666304682, 'l2_leaf_reg': 3.1331439884179555, 'bagging_temperature': 2.0423811864935257, 'border_count': 54}. Best is trial 38 with value: 0.9326364570911319.\n",
      "/var/folders/4s/xd_3ly695k1gl73bn_9m85j40000gn/T/ipykernel_5317/2676129936.py:30: FutureWarning:\n",
      "\n",
      "suggest_loguniform has been deprecated in v3.0.0. This feature will be removed in v6.0.0. See https://github.com/optuna/optuna/releases/tag/v3.0.0. Use suggest_float(..., log=True) instead.\n",
      "\n",
      "[I 2025-09-11 15:40:30,466] Trial 41 finished with value: 0.9291813536592052 and parameters: {'iterations': 700, 'depth': 6, 'learning_rate': 0.013622465878504453, 'l2_leaf_reg': 1.3808329096253447, 'bagging_temperature': 3.0004156903141284, 'border_count': 85}. Best is trial 38 with value: 0.9326364570911319.\n",
      "/var/folders/4s/xd_3ly695k1gl73bn_9m85j40000gn/T/ipykernel_5317/2676129936.py:30: FutureWarning:\n",
      "\n",
      "suggest_loguniform has been deprecated in v3.0.0. This feature will be removed in v6.0.0. See https://github.com/optuna/optuna/releases/tag/v3.0.0. Use suggest_float(..., log=True) instead.\n",
      "\n"
     ]
    },
    {
     "name": "stderr",
     "output_type": "stream",
     "text": [
      "[I 2025-09-11 15:40:33,163] Trial 42 finished with value: 0.9258496341531612 and parameters: {'iterations': 800, 'depth': 6, 'learning_rate': 0.02371791352396891, 'l2_leaf_reg': 2.345891467926635, 'bagging_temperature': 4.934767807656291, 'border_count': 153}. Best is trial 38 with value: 0.9326364570911319.\n",
      "/var/folders/4s/xd_3ly695k1gl73bn_9m85j40000gn/T/ipykernel_5317/2676129936.py:30: FutureWarning:\n",
      "\n",
      "suggest_loguniform has been deprecated in v3.0.0. This feature will be removed in v6.0.0. See https://github.com/optuna/optuna/releases/tag/v3.0.0. Use suggest_float(..., log=True) instead.\n",
      "\n",
      "[I 2025-09-11 15:40:37,265] Trial 43 finished with value: 0.9379196460311489 and parameters: {'iterations': 1100, 'depth': 5, 'learning_rate': 0.018458591808163536, 'l2_leaf_reg': 2.0510760772316825, 'bagging_temperature': 3.2878093249289897, 'border_count': 81}. Best is trial 43 with value: 0.9379196460311489.\n",
      "/var/folders/4s/xd_3ly695k1gl73bn_9m85j40000gn/T/ipykernel_5317/2676129936.py:30: FutureWarning:\n",
      "\n",
      "suggest_loguniform has been deprecated in v3.0.0. This feature will be removed in v6.0.0. See https://github.com/optuna/optuna/releases/tag/v3.0.0. Use suggest_float(..., log=True) instead.\n",
      "\n",
      "[I 2025-09-11 15:40:41,289] Trial 44 finished with value: 0.936233484657047 and parameters: {'iterations': 1100, 'depth': 5, 'learning_rate': 0.018324479271147154, 'l2_leaf_reg': 2.81513504722877, 'bagging_temperature': 3.335691656356109, 'border_count': 66}. Best is trial 43 with value: 0.9379196460311489.\n",
      "/var/folders/4s/xd_3ly695k1gl73bn_9m85j40000gn/T/ipykernel_5317/2676129936.py:30: FutureWarning:\n",
      "\n",
      "suggest_loguniform has been deprecated in v3.0.0. This feature will be removed in v6.0.0. See https://github.com/optuna/optuna/releases/tag/v3.0.0. Use suggest_float(..., log=True) instead.\n",
      "\n",
      "[I 2025-09-11 15:40:45,113] Trial 45 finished with value: 0.9332439249715012 and parameters: {'iterations': 1100, 'depth': 5, 'learning_rate': 0.0189886384601697, 'l2_leaf_reg': 3.5752494825177474, 'bagging_temperature': 3.2863363422065524, 'border_count': 67}. Best is trial 43 with value: 0.9379196460311489.\n",
      "/var/folders/4s/xd_3ly695k1gl73bn_9m85j40000gn/T/ipykernel_5317/2676129936.py:30: FutureWarning:\n",
      "\n",
      "suggest_loguniform has been deprecated in v3.0.0. This feature will be removed in v6.0.0. See https://github.com/optuna/optuna/releases/tag/v3.0.0. Use suggest_float(..., log=True) instead.\n",
      "\n",
      "[I 2025-09-11 15:40:47,850] Trial 46 finished with value: 0.9327214120269975 and parameters: {'iterations': 1100, 'depth': 4, 'learning_rate': 0.018407159868546845, 'l2_leaf_reg': 3.650582363749077, 'bagging_temperature': 3.6650043024795877, 'border_count': 77}. Best is trial 43 with value: 0.9379196460311489.\n",
      "/var/folders/4s/xd_3ly695k1gl73bn_9m85j40000gn/T/ipykernel_5317/2676129936.py:30: FutureWarning:\n",
      "\n",
      "suggest_loguniform has been deprecated in v3.0.0. This feature will be removed in v6.0.0. See https://github.com/optuna/optuna/releases/tag/v3.0.0. Use suggest_float(..., log=True) instead.\n",
      "\n",
      "[I 2025-09-11 15:40:50,728] Trial 47 finished with value: 0.9325215405134606 and parameters: {'iterations': 1100, 'depth': 4, 'learning_rate': 0.01867536434066104, 'l2_leaf_reg': 3.703210405908064, 'bagging_temperature': 3.719012058224241, 'border_count': 73}. Best is trial 43 with value: 0.9379196460311489.\n",
      "/var/folders/4s/xd_3ly695k1gl73bn_9m85j40000gn/T/ipykernel_5317/2676129936.py:30: FutureWarning:\n",
      "\n",
      "suggest_loguniform has been deprecated in v3.0.0. This feature will be removed in v6.0.0. See https://github.com/optuna/optuna/releases/tag/v3.0.0. Use suggest_float(..., log=True) instead.\n",
      "\n",
      "[I 2025-09-11 15:40:54,168] Trial 48 finished with value: 0.9288156589809424 and parameters: {'iterations': 1000, 'depth': 5, 'learning_rate': 0.011712164118738684, 'l2_leaf_reg': 4.448782037273877, 'bagging_temperature': 3.1349000501464204, 'border_count': 59}. Best is trial 43 with value: 0.9379196460311489.\n",
      "/var/folders/4s/xd_3ly695k1gl73bn_9m85j40000gn/T/ipykernel_5317/2676129936.py:30: FutureWarning:\n",
      "\n",
      "suggest_loguniform has been deprecated in v3.0.0. This feature will be removed in v6.0.0. See https://github.com/optuna/optuna/releases/tag/v3.0.0. Use suggest_float(..., log=True) instead.\n",
      "\n",
      "[I 2025-09-11 15:40:56,928] Trial 49 finished with value: 0.9284246947391183 and parameters: {'iterations': 1100, 'depth': 4, 'learning_rate': 0.017652756545017873, 'l2_leaf_reg': 5.446527312348571, 'bagging_temperature': 3.300522464647527, 'border_count': 75}. Best is trial 43 with value: 0.9379196460311489.\n"
     ]
    },
    {
     "name": "stdout",
     "output_type": "stream",
     "text": [
      "------------------------------\n",
      "Optuna optimization completed.\n",
      "Number of finished trials: 50\n",
      "Best R-squared score found: 0.9379\n",
      "\n",
      "Best parameters found:\n",
      "  iterations: 1100\n",
      "  depth: 5\n",
      "  learning_rate: 0.018458591808163536\n",
      "  l2_leaf_reg: 2.0510760772316825\n",
      "  bagging_temperature: 3.2878093249289897\n",
      "  border_count: 81\n"
     ]
    }
   ],
   "source": [
    "# --- Create the Optuna study and run the optimization ---\n",
    "# We want to maximize the R-squared score, so we set direction='maximize'\n",
    "# We explicitly use TPESampler as requested.\n",
    "study = optuna.create_study(\n",
    "    direction='maximize',\n",
    "    sampler=TPESampler(seed=42)\n",
    ")\n",
    "\n",
    "print(\"Starting Optuna optimization for hyperparameter tuning...\")\n",
    "# Run the optimization for a specified number of trials.\n",
    "# We use a lambda function to pass the data to the objective function.\n",
    "study.optimize(lambda trial: objective(trial, X_train, X_test, y_train, y_test), n_trials=50)\n",
    "\n",
    "# --- Print the results ---\n",
    "print(\"-\" * 30)\n",
    "print(\"Optuna optimization completed.\")\n",
    "print(f\"Number of finished trials: {len(study.trials)}\")\n",
    "print(f\"Best R-squared score found: {study.best_value:.4f}\")\n",
    "print(\"\\nBest parameters found:\")\n",
    "for param, value in study.best_params.items():\n",
    "    print(f\"  {param}: {value}\")"
   ]
  },
  {
   "cell_type": "code",
   "execution_count": 36,
   "id": "d3e080f3",
   "metadata": {},
   "outputs": [
    {
     "data": {
      "text/plain": [
       "{'iterations': 1100,\n",
       " 'depth': 5,\n",
       " 'learning_rate': 0.018458591808163536,\n",
       " 'l2_leaf_reg': 2.0510760772316825,\n",
       " 'bagging_temperature': 3.2878093249289897,\n",
       " 'border_count': 81}"
      ]
     },
     "execution_count": 36,
     "metadata": {},
     "output_type": "execute_result"
    }
   ],
   "source": [
    "study.best_params"
   ]
  },
  {
   "cell_type": "markdown",
   "id": "caa8bf6e",
   "metadata": {},
   "source": [
    "### Hyperparameter Importances Plot\n",
    "- This plot shows you which hyperparameters were most influential in determining the model's performance during the optimization process. The importance is calculated by analyzing how much each parameter's value impacted the final R-squared score.\n",
    "\n",
    "- Essentially, if a hyperparameter like learning_rate or depth has a high importance score, it means that changes to its value led to significant changes in the model's performance. Conversely, a parameter with a low importance score means that varying its value didn't have much effect on the final outcome.\n",
    "\n",
    "- This plot is incredibly useful for refining your next optimization. For instance, if you see that a certain hyperparameter has very low importance, you might be able to fix its value or remove it from the search space in a future run to make the optimization faster and more efficient."
   ]
  },
  {
   "cell_type": "code",
   "execution_count": 37,
   "id": "cb6b2115",
   "metadata": {
    "scrolled": true
   },
   "outputs": [
    {
     "data": {
      "application/vnd.plotly.v1+json": {
       "config": {
        "plotlyServerURL": "https://plot.ly"
       },
       "data": [
        {
         "cliponaxis": false,
         "hovertemplate": [
          "iterations (IntDistribution): 0.04532642399907005<extra></extra>",
          "bagging_temperature (FloatDistribution): 0.06526373298331886<extra></extra>",
          "learning_rate (FloatDistribution): 0.09996106075478835<extra></extra>",
          "depth (IntDistribution): 0.16933318960453483<extra></extra>",
          "border_count (IntDistribution): 0.19893717202618894<extra></extra>",
          "l2_leaf_reg (FloatDistribution): 0.4211784206320989<extra></extra>"
         ],
         "name": "Objective Value",
         "orientation": "h",
         "text": [
          "0.05",
          "0.07",
          "0.10",
          "0.17",
          "0.20",
          "0.42"
         ],
         "textposition": "outside",
         "type": "bar",
         "x": [
          0.04532642399907005,
          0.06526373298331886,
          0.09996106075478835,
          0.16933318960453483,
          0.19893717202618894,
          0.4211784206320989
         ],
         "y": [
          "iterations",
          "bagging_temperature",
          "learning_rate",
          "depth",
          "border_count",
          "l2_leaf_reg"
         ]
        }
       ],
       "layout": {
        "template": {
         "data": {
          "bar": [
           {
            "error_x": {
             "color": "#2a3f5f"
            },
            "error_y": {
             "color": "#2a3f5f"
            },
            "marker": {
             "line": {
              "color": "#E5ECF6",
              "width": 0.5
             },
             "pattern": {
              "fillmode": "overlay",
              "size": 10,
              "solidity": 0.2
             }
            },
            "type": "bar"
           }
          ],
          "barpolar": [
           {
            "marker": {
             "line": {
              "color": "#E5ECF6",
              "width": 0.5
             },
             "pattern": {
              "fillmode": "overlay",
              "size": 10,
              "solidity": 0.2
             }
            },
            "type": "barpolar"
           }
          ],
          "carpet": [
           {
            "aaxis": {
             "endlinecolor": "#2a3f5f",
             "gridcolor": "white",
             "linecolor": "white",
             "minorgridcolor": "white",
             "startlinecolor": "#2a3f5f"
            },
            "baxis": {
             "endlinecolor": "#2a3f5f",
             "gridcolor": "white",
             "linecolor": "white",
             "minorgridcolor": "white",
             "startlinecolor": "#2a3f5f"
            },
            "type": "carpet"
           }
          ],
          "choropleth": [
           {
            "colorbar": {
             "outlinewidth": 0,
             "ticks": ""
            },
            "type": "choropleth"
           }
          ],
          "contour": [
           {
            "colorbar": {
             "outlinewidth": 0,
             "ticks": ""
            },
            "colorscale": [
             [
              0,
              "#0d0887"
             ],
             [
              0.1111111111111111,
              "#46039f"
             ],
             [
              0.2222222222222222,
              "#7201a8"
             ],
             [
              0.3333333333333333,
              "#9c179e"
             ],
             [
              0.4444444444444444,
              "#bd3786"
             ],
             [
              0.5555555555555556,
              "#d8576b"
             ],
             [
              0.6666666666666666,
              "#ed7953"
             ],
             [
              0.7777777777777778,
              "#fb9f3a"
             ],
             [
              0.8888888888888888,
              "#fdca26"
             ],
             [
              1,
              "#f0f921"
             ]
            ],
            "type": "contour"
           }
          ],
          "contourcarpet": [
           {
            "colorbar": {
             "outlinewidth": 0,
             "ticks": ""
            },
            "type": "contourcarpet"
           }
          ],
          "heatmap": [
           {
            "colorbar": {
             "outlinewidth": 0,
             "ticks": ""
            },
            "colorscale": [
             [
              0,
              "#0d0887"
             ],
             [
              0.1111111111111111,
              "#46039f"
             ],
             [
              0.2222222222222222,
              "#7201a8"
             ],
             [
              0.3333333333333333,
              "#9c179e"
             ],
             [
              0.4444444444444444,
              "#bd3786"
             ],
             [
              0.5555555555555556,
              "#d8576b"
             ],
             [
              0.6666666666666666,
              "#ed7953"
             ],
             [
              0.7777777777777778,
              "#fb9f3a"
             ],
             [
              0.8888888888888888,
              "#fdca26"
             ],
             [
              1,
              "#f0f921"
             ]
            ],
            "type": "heatmap"
           }
          ],
          "heatmapgl": [
           {
            "colorbar": {
             "outlinewidth": 0,
             "ticks": ""
            },
            "colorscale": [
             [
              0,
              "#0d0887"
             ],
             [
              0.1111111111111111,
              "#46039f"
             ],
             [
              0.2222222222222222,
              "#7201a8"
             ],
             [
              0.3333333333333333,
              "#9c179e"
             ],
             [
              0.4444444444444444,
              "#bd3786"
             ],
             [
              0.5555555555555556,
              "#d8576b"
             ],
             [
              0.6666666666666666,
              "#ed7953"
             ],
             [
              0.7777777777777778,
              "#fb9f3a"
             ],
             [
              0.8888888888888888,
              "#fdca26"
             ],
             [
              1,
              "#f0f921"
             ]
            ],
            "type": "heatmapgl"
           }
          ],
          "histogram": [
           {
            "marker": {
             "pattern": {
              "fillmode": "overlay",
              "size": 10,
              "solidity": 0.2
             }
            },
            "type": "histogram"
           }
          ],
          "histogram2d": [
           {
            "colorbar": {
             "outlinewidth": 0,
             "ticks": ""
            },
            "colorscale": [
             [
              0,
              "#0d0887"
             ],
             [
              0.1111111111111111,
              "#46039f"
             ],
             [
              0.2222222222222222,
              "#7201a8"
             ],
             [
              0.3333333333333333,
              "#9c179e"
             ],
             [
              0.4444444444444444,
              "#bd3786"
             ],
             [
              0.5555555555555556,
              "#d8576b"
             ],
             [
              0.6666666666666666,
              "#ed7953"
             ],
             [
              0.7777777777777778,
              "#fb9f3a"
             ],
             [
              0.8888888888888888,
              "#fdca26"
             ],
             [
              1,
              "#f0f921"
             ]
            ],
            "type": "histogram2d"
           }
          ],
          "histogram2dcontour": [
           {
            "colorbar": {
             "outlinewidth": 0,
             "ticks": ""
            },
            "colorscale": [
             [
              0,
              "#0d0887"
             ],
             [
              0.1111111111111111,
              "#46039f"
             ],
             [
              0.2222222222222222,
              "#7201a8"
             ],
             [
              0.3333333333333333,
              "#9c179e"
             ],
             [
              0.4444444444444444,
              "#bd3786"
             ],
             [
              0.5555555555555556,
              "#d8576b"
             ],
             [
              0.6666666666666666,
              "#ed7953"
             ],
             [
              0.7777777777777778,
              "#fb9f3a"
             ],
             [
              0.8888888888888888,
              "#fdca26"
             ],
             [
              1,
              "#f0f921"
             ]
            ],
            "type": "histogram2dcontour"
           }
          ],
          "mesh3d": [
           {
            "colorbar": {
             "outlinewidth": 0,
             "ticks": ""
            },
            "type": "mesh3d"
           }
          ],
          "parcoords": [
           {
            "line": {
             "colorbar": {
              "outlinewidth": 0,
              "ticks": ""
             }
            },
            "type": "parcoords"
           }
          ],
          "pie": [
           {
            "automargin": true,
            "type": "pie"
           }
          ],
          "scatter": [
           {
            "fillpattern": {
             "fillmode": "overlay",
             "size": 10,
             "solidity": 0.2
            },
            "type": "scatter"
           }
          ],
          "scatter3d": [
           {
            "line": {
             "colorbar": {
              "outlinewidth": 0,
              "ticks": ""
             }
            },
            "marker": {
             "colorbar": {
              "outlinewidth": 0,
              "ticks": ""
             }
            },
            "type": "scatter3d"
           }
          ],
          "scattercarpet": [
           {
            "marker": {
             "colorbar": {
              "outlinewidth": 0,
              "ticks": ""
             }
            },
            "type": "scattercarpet"
           }
          ],
          "scattergeo": [
           {
            "marker": {
             "colorbar": {
              "outlinewidth": 0,
              "ticks": ""
             }
            },
            "type": "scattergeo"
           }
          ],
          "scattergl": [
           {
            "marker": {
             "colorbar": {
              "outlinewidth": 0,
              "ticks": ""
             }
            },
            "type": "scattergl"
           }
          ],
          "scattermapbox": [
           {
            "marker": {
             "colorbar": {
              "outlinewidth": 0,
              "ticks": ""
             }
            },
            "type": "scattermapbox"
           }
          ],
          "scatterpolar": [
           {
            "marker": {
             "colorbar": {
              "outlinewidth": 0,
              "ticks": ""
             }
            },
            "type": "scatterpolar"
           }
          ],
          "scatterpolargl": [
           {
            "marker": {
             "colorbar": {
              "outlinewidth": 0,
              "ticks": ""
             }
            },
            "type": "scatterpolargl"
           }
          ],
          "scatterternary": [
           {
            "marker": {
             "colorbar": {
              "outlinewidth": 0,
              "ticks": ""
             }
            },
            "type": "scatterternary"
           }
          ],
          "surface": [
           {
            "colorbar": {
             "outlinewidth": 0,
             "ticks": ""
            },
            "colorscale": [
             [
              0,
              "#0d0887"
             ],
             [
              0.1111111111111111,
              "#46039f"
             ],
             [
              0.2222222222222222,
              "#7201a8"
             ],
             [
              0.3333333333333333,
              "#9c179e"
             ],
             [
              0.4444444444444444,
              "#bd3786"
             ],
             [
              0.5555555555555556,
              "#d8576b"
             ],
             [
              0.6666666666666666,
              "#ed7953"
             ],
             [
              0.7777777777777778,
              "#fb9f3a"
             ],
             [
              0.8888888888888888,
              "#fdca26"
             ],
             [
              1,
              "#f0f921"
             ]
            ],
            "type": "surface"
           }
          ],
          "table": [
           {
            "cells": {
             "fill": {
              "color": "#EBF0F8"
             },
             "line": {
              "color": "white"
             }
            },
            "header": {
             "fill": {
              "color": "#C8D4E3"
             },
             "line": {
              "color": "white"
             }
            },
            "type": "table"
           }
          ]
         },
         "layout": {
          "annotationdefaults": {
           "arrowcolor": "#2a3f5f",
           "arrowhead": 0,
           "arrowwidth": 1
          },
          "autotypenumbers": "strict",
          "coloraxis": {
           "colorbar": {
            "outlinewidth": 0,
            "ticks": ""
           }
          },
          "colorscale": {
           "diverging": [
            [
             0,
             "#8e0152"
            ],
            [
             0.1,
             "#c51b7d"
            ],
            [
             0.2,
             "#de77ae"
            ],
            [
             0.3,
             "#f1b6da"
            ],
            [
             0.4,
             "#fde0ef"
            ],
            [
             0.5,
             "#f7f7f7"
            ],
            [
             0.6,
             "#e6f5d0"
            ],
            [
             0.7,
             "#b8e186"
            ],
            [
             0.8,
             "#7fbc41"
            ],
            [
             0.9,
             "#4d9221"
            ],
            [
             1,
             "#276419"
            ]
           ],
           "sequential": [
            [
             0,
             "#0d0887"
            ],
            [
             0.1111111111111111,
             "#46039f"
            ],
            [
             0.2222222222222222,
             "#7201a8"
            ],
            [
             0.3333333333333333,
             "#9c179e"
            ],
            [
             0.4444444444444444,
             "#bd3786"
            ],
            [
             0.5555555555555556,
             "#d8576b"
            ],
            [
             0.6666666666666666,
             "#ed7953"
            ],
            [
             0.7777777777777778,
             "#fb9f3a"
            ],
            [
             0.8888888888888888,
             "#fdca26"
            ],
            [
             1,
             "#f0f921"
            ]
           ],
           "sequentialminus": [
            [
             0,
             "#0d0887"
            ],
            [
             0.1111111111111111,
             "#46039f"
            ],
            [
             0.2222222222222222,
             "#7201a8"
            ],
            [
             0.3333333333333333,
             "#9c179e"
            ],
            [
             0.4444444444444444,
             "#bd3786"
            ],
            [
             0.5555555555555556,
             "#d8576b"
            ],
            [
             0.6666666666666666,
             "#ed7953"
            ],
            [
             0.7777777777777778,
             "#fb9f3a"
            ],
            [
             0.8888888888888888,
             "#fdca26"
            ],
            [
             1,
             "#f0f921"
            ]
           ]
          },
          "colorway": [
           "#636efa",
           "#EF553B",
           "#00cc96",
           "#ab63fa",
           "#FFA15A",
           "#19d3f3",
           "#FF6692",
           "#B6E880",
           "#FF97FF",
           "#FECB52"
          ],
          "font": {
           "color": "#2a3f5f"
          },
          "geo": {
           "bgcolor": "white",
           "lakecolor": "white",
           "landcolor": "#E5ECF6",
           "showlakes": true,
           "showland": true,
           "subunitcolor": "white"
          },
          "hoverlabel": {
           "align": "left"
          },
          "hovermode": "closest",
          "mapbox": {
           "style": "light"
          },
          "paper_bgcolor": "white",
          "plot_bgcolor": "#E5ECF6",
          "polar": {
           "angularaxis": {
            "gridcolor": "white",
            "linecolor": "white",
            "ticks": ""
           },
           "bgcolor": "#E5ECF6",
           "radialaxis": {
            "gridcolor": "white",
            "linecolor": "white",
            "ticks": ""
           }
          },
          "scene": {
           "xaxis": {
            "backgroundcolor": "#E5ECF6",
            "gridcolor": "white",
            "gridwidth": 2,
            "linecolor": "white",
            "showbackground": true,
            "ticks": "",
            "zerolinecolor": "white"
           },
           "yaxis": {
            "backgroundcolor": "#E5ECF6",
            "gridcolor": "white",
            "gridwidth": 2,
            "linecolor": "white",
            "showbackground": true,
            "ticks": "",
            "zerolinecolor": "white"
           },
           "zaxis": {
            "backgroundcolor": "#E5ECF6",
            "gridcolor": "white",
            "gridwidth": 2,
            "linecolor": "white",
            "showbackground": true,
            "ticks": "",
            "zerolinecolor": "white"
           }
          },
          "shapedefaults": {
           "line": {
            "color": "#2a3f5f"
           }
          },
          "ternary": {
           "aaxis": {
            "gridcolor": "white",
            "linecolor": "white",
            "ticks": ""
           },
           "baxis": {
            "gridcolor": "white",
            "linecolor": "white",
            "ticks": ""
           },
           "bgcolor": "#E5ECF6",
           "caxis": {
            "gridcolor": "white",
            "linecolor": "white",
            "ticks": ""
           }
          },
          "title": {
           "x": 0.05
          },
          "xaxis": {
           "automargin": true,
           "gridcolor": "white",
           "linecolor": "white",
           "ticks": "",
           "title": {
            "standoff": 15
           },
           "zerolinecolor": "white",
           "zerolinewidth": 2
          },
          "yaxis": {
           "automargin": true,
           "gridcolor": "white",
           "linecolor": "white",
           "ticks": "",
           "title": {
            "standoff": 15
           },
           "zerolinecolor": "white",
           "zerolinewidth": 2
          }
         }
        },
        "title": {
         "text": "Hyperparameter Importances"
        },
        "xaxis": {
         "title": {
          "text": "Hyperparameter Importance"
         }
        },
        "yaxis": {
         "title": {
          "text": "Hyperparameter"
         }
        }
       }
      },
      "text/html": [
       "<div>                            <div id=\"c862ec11-dbe0-4cfc-937a-427e03029329\" class=\"plotly-graph-div\" style=\"height:525px; width:100%;\"></div>            <script type=\"text/javascript\">                require([\"plotly\"], function(Plotly) {                    window.PLOTLYENV=window.PLOTLYENV || {};                                    if (document.getElementById(\"c862ec11-dbe0-4cfc-937a-427e03029329\")) {                    Plotly.newPlot(                        \"c862ec11-dbe0-4cfc-937a-427e03029329\",                        [{\"cliponaxis\":false,\"hovertemplate\":[\"iterations (IntDistribution): 0.04532642399907005<extra></extra>\",\"bagging_temperature (FloatDistribution): 0.06526373298331886<extra></extra>\",\"learning_rate (FloatDistribution): 0.09996106075478835<extra></extra>\",\"depth (IntDistribution): 0.16933318960453483<extra></extra>\",\"border_count (IntDistribution): 0.19893717202618894<extra></extra>\",\"l2_leaf_reg (FloatDistribution): 0.4211784206320989<extra></extra>\"],\"name\":\"Objective Value\",\"orientation\":\"h\",\"text\":[\"0.05\",\"0.07\",\"0.10\",\"0.17\",\"0.20\",\"0.42\"],\"textposition\":\"outside\",\"x\":[0.04532642399907005,0.06526373298331886,0.09996106075478835,0.16933318960453483,0.19893717202618894,0.4211784206320989],\"y\":[\"iterations\",\"bagging_temperature\",\"learning_rate\",\"depth\",\"border_count\",\"l2_leaf_reg\"],\"type\":\"bar\"}],                        {\"title\":{\"text\":\"Hyperparameter Importances\"},\"xaxis\":{\"title\":{\"text\":\"Hyperparameter Importance\"}},\"yaxis\":{\"title\":{\"text\":\"Hyperparameter\"}},\"template\":{\"data\":{\"histogram2dcontour\":[{\"type\":\"histogram2dcontour\",\"colorbar\":{\"outlinewidth\":0,\"ticks\":\"\"},\"colorscale\":[[0.0,\"#0d0887\"],[0.1111111111111111,\"#46039f\"],[0.2222222222222222,\"#7201a8\"],[0.3333333333333333,\"#9c179e\"],[0.4444444444444444,\"#bd3786\"],[0.5555555555555556,\"#d8576b\"],[0.6666666666666666,\"#ed7953\"],[0.7777777777777778,\"#fb9f3a\"],[0.8888888888888888,\"#fdca26\"],[1.0,\"#f0f921\"]]}],\"choropleth\":[{\"type\":\"choropleth\",\"colorbar\":{\"outlinewidth\":0,\"ticks\":\"\"}}],\"histogram2d\":[{\"type\":\"histogram2d\",\"colorbar\":{\"outlinewidth\":0,\"ticks\":\"\"},\"colorscale\":[[0.0,\"#0d0887\"],[0.1111111111111111,\"#46039f\"],[0.2222222222222222,\"#7201a8\"],[0.3333333333333333,\"#9c179e\"],[0.4444444444444444,\"#bd3786\"],[0.5555555555555556,\"#d8576b\"],[0.6666666666666666,\"#ed7953\"],[0.7777777777777778,\"#fb9f3a\"],[0.8888888888888888,\"#fdca26\"],[1.0,\"#f0f921\"]]}],\"heatmap\":[{\"type\":\"heatmap\",\"colorbar\":{\"outlinewidth\":0,\"ticks\":\"\"},\"colorscale\":[[0.0,\"#0d0887\"],[0.1111111111111111,\"#46039f\"],[0.2222222222222222,\"#7201a8\"],[0.3333333333333333,\"#9c179e\"],[0.4444444444444444,\"#bd3786\"],[0.5555555555555556,\"#d8576b\"],[0.6666666666666666,\"#ed7953\"],[0.7777777777777778,\"#fb9f3a\"],[0.8888888888888888,\"#fdca26\"],[1.0,\"#f0f921\"]]}],\"heatmapgl\":[{\"type\":\"heatmapgl\",\"colorbar\":{\"outlinewidth\":0,\"ticks\":\"\"},\"colorscale\":[[0.0,\"#0d0887\"],[0.1111111111111111,\"#46039f\"],[0.2222222222222222,\"#7201a8\"],[0.3333333333333333,\"#9c179e\"],[0.4444444444444444,\"#bd3786\"],[0.5555555555555556,\"#d8576b\"],[0.6666666666666666,\"#ed7953\"],[0.7777777777777778,\"#fb9f3a\"],[0.8888888888888888,\"#fdca26\"],[1.0,\"#f0f921\"]]}],\"contourcarpet\":[{\"type\":\"contourcarpet\",\"colorbar\":{\"outlinewidth\":0,\"ticks\":\"\"}}],\"contour\":[{\"type\":\"contour\",\"colorbar\":{\"outlinewidth\":0,\"ticks\":\"\"},\"colorscale\":[[0.0,\"#0d0887\"],[0.1111111111111111,\"#46039f\"],[0.2222222222222222,\"#7201a8\"],[0.3333333333333333,\"#9c179e\"],[0.4444444444444444,\"#bd3786\"],[0.5555555555555556,\"#d8576b\"],[0.6666666666666666,\"#ed7953\"],[0.7777777777777778,\"#fb9f3a\"],[0.8888888888888888,\"#fdca26\"],[1.0,\"#f0f921\"]]}],\"surface\":[{\"type\":\"surface\",\"colorbar\":{\"outlinewidth\":0,\"ticks\":\"\"},\"colorscale\":[[0.0,\"#0d0887\"],[0.1111111111111111,\"#46039f\"],[0.2222222222222222,\"#7201a8\"],[0.3333333333333333,\"#9c179e\"],[0.4444444444444444,\"#bd3786\"],[0.5555555555555556,\"#d8576b\"],[0.6666666666666666,\"#ed7953\"],[0.7777777777777778,\"#fb9f3a\"],[0.8888888888888888,\"#fdca26\"],[1.0,\"#f0f921\"]]}],\"mesh3d\":[{\"type\":\"mesh3d\",\"colorbar\":{\"outlinewidth\":0,\"ticks\":\"\"}}],\"scatter\":[{\"fillpattern\":{\"fillmode\":\"overlay\",\"size\":10,\"solidity\":0.2},\"type\":\"scatter\"}],\"parcoords\":[{\"type\":\"parcoords\",\"line\":{\"colorbar\":{\"outlinewidth\":0,\"ticks\":\"\"}}}],\"scatterpolargl\":[{\"type\":\"scatterpolargl\",\"marker\":{\"colorbar\":{\"outlinewidth\":0,\"ticks\":\"\"}}}],\"bar\":[{\"error_x\":{\"color\":\"#2a3f5f\"},\"error_y\":{\"color\":\"#2a3f5f\"},\"marker\":{\"line\":{\"color\":\"#E5ECF6\",\"width\":0.5},\"pattern\":{\"fillmode\":\"overlay\",\"size\":10,\"solidity\":0.2}},\"type\":\"bar\"}],\"scattergeo\":[{\"type\":\"scattergeo\",\"marker\":{\"colorbar\":{\"outlinewidth\":0,\"ticks\":\"\"}}}],\"scatterpolar\":[{\"type\":\"scatterpolar\",\"marker\":{\"colorbar\":{\"outlinewidth\":0,\"ticks\":\"\"}}}],\"histogram\":[{\"marker\":{\"pattern\":{\"fillmode\":\"overlay\",\"size\":10,\"solidity\":0.2}},\"type\":\"histogram\"}],\"scattergl\":[{\"type\":\"scattergl\",\"marker\":{\"colorbar\":{\"outlinewidth\":0,\"ticks\":\"\"}}}],\"scatter3d\":[{\"type\":\"scatter3d\",\"line\":{\"colorbar\":{\"outlinewidth\":0,\"ticks\":\"\"}},\"marker\":{\"colorbar\":{\"outlinewidth\":0,\"ticks\":\"\"}}}],\"scattermapbox\":[{\"type\":\"scattermapbox\",\"marker\":{\"colorbar\":{\"outlinewidth\":0,\"ticks\":\"\"}}}],\"scatterternary\":[{\"type\":\"scatterternary\",\"marker\":{\"colorbar\":{\"outlinewidth\":0,\"ticks\":\"\"}}}],\"scattercarpet\":[{\"type\":\"scattercarpet\",\"marker\":{\"colorbar\":{\"outlinewidth\":0,\"ticks\":\"\"}}}],\"carpet\":[{\"aaxis\":{\"endlinecolor\":\"#2a3f5f\",\"gridcolor\":\"white\",\"linecolor\":\"white\",\"minorgridcolor\":\"white\",\"startlinecolor\":\"#2a3f5f\"},\"baxis\":{\"endlinecolor\":\"#2a3f5f\",\"gridcolor\":\"white\",\"linecolor\":\"white\",\"minorgridcolor\":\"white\",\"startlinecolor\":\"#2a3f5f\"},\"type\":\"carpet\"}],\"table\":[{\"cells\":{\"fill\":{\"color\":\"#EBF0F8\"},\"line\":{\"color\":\"white\"}},\"header\":{\"fill\":{\"color\":\"#C8D4E3\"},\"line\":{\"color\":\"white\"}},\"type\":\"table\"}],\"barpolar\":[{\"marker\":{\"line\":{\"color\":\"#E5ECF6\",\"width\":0.5},\"pattern\":{\"fillmode\":\"overlay\",\"size\":10,\"solidity\":0.2}},\"type\":\"barpolar\"}],\"pie\":[{\"automargin\":true,\"type\":\"pie\"}]},\"layout\":{\"autotypenumbers\":\"strict\",\"colorway\":[\"#636efa\",\"#EF553B\",\"#00cc96\",\"#ab63fa\",\"#FFA15A\",\"#19d3f3\",\"#FF6692\",\"#B6E880\",\"#FF97FF\",\"#FECB52\"],\"font\":{\"color\":\"#2a3f5f\"},\"hovermode\":\"closest\",\"hoverlabel\":{\"align\":\"left\"},\"paper_bgcolor\":\"white\",\"plot_bgcolor\":\"#E5ECF6\",\"polar\":{\"bgcolor\":\"#E5ECF6\",\"angularaxis\":{\"gridcolor\":\"white\",\"linecolor\":\"white\",\"ticks\":\"\"},\"radialaxis\":{\"gridcolor\":\"white\",\"linecolor\":\"white\",\"ticks\":\"\"}},\"ternary\":{\"bgcolor\":\"#E5ECF6\",\"aaxis\":{\"gridcolor\":\"white\",\"linecolor\":\"white\",\"ticks\":\"\"},\"baxis\":{\"gridcolor\":\"white\",\"linecolor\":\"white\",\"ticks\":\"\"},\"caxis\":{\"gridcolor\":\"white\",\"linecolor\":\"white\",\"ticks\":\"\"}},\"coloraxis\":{\"colorbar\":{\"outlinewidth\":0,\"ticks\":\"\"}},\"colorscale\":{\"sequential\":[[0.0,\"#0d0887\"],[0.1111111111111111,\"#46039f\"],[0.2222222222222222,\"#7201a8\"],[0.3333333333333333,\"#9c179e\"],[0.4444444444444444,\"#bd3786\"],[0.5555555555555556,\"#d8576b\"],[0.6666666666666666,\"#ed7953\"],[0.7777777777777778,\"#fb9f3a\"],[0.8888888888888888,\"#fdca26\"],[1.0,\"#f0f921\"]],\"sequentialminus\":[[0.0,\"#0d0887\"],[0.1111111111111111,\"#46039f\"],[0.2222222222222222,\"#7201a8\"],[0.3333333333333333,\"#9c179e\"],[0.4444444444444444,\"#bd3786\"],[0.5555555555555556,\"#d8576b\"],[0.6666666666666666,\"#ed7953\"],[0.7777777777777778,\"#fb9f3a\"],[0.8888888888888888,\"#fdca26\"],[1.0,\"#f0f921\"]],\"diverging\":[[0,\"#8e0152\"],[0.1,\"#c51b7d\"],[0.2,\"#de77ae\"],[0.3,\"#f1b6da\"],[0.4,\"#fde0ef\"],[0.5,\"#f7f7f7\"],[0.6,\"#e6f5d0\"],[0.7,\"#b8e186\"],[0.8,\"#7fbc41\"],[0.9,\"#4d9221\"],[1,\"#276419\"]]},\"xaxis\":{\"gridcolor\":\"white\",\"linecolor\":\"white\",\"ticks\":\"\",\"title\":{\"standoff\":15},\"zerolinecolor\":\"white\",\"automargin\":true,\"zerolinewidth\":2},\"yaxis\":{\"gridcolor\":\"white\",\"linecolor\":\"white\",\"ticks\":\"\",\"title\":{\"standoff\":15},\"zerolinecolor\":\"white\",\"automargin\":true,\"zerolinewidth\":2},\"scene\":{\"xaxis\":{\"backgroundcolor\":\"#E5ECF6\",\"gridcolor\":\"white\",\"linecolor\":\"white\",\"showbackground\":true,\"ticks\":\"\",\"zerolinecolor\":\"white\",\"gridwidth\":2},\"yaxis\":{\"backgroundcolor\":\"#E5ECF6\",\"gridcolor\":\"white\",\"linecolor\":\"white\",\"showbackground\":true,\"ticks\":\"\",\"zerolinecolor\":\"white\",\"gridwidth\":2},\"zaxis\":{\"backgroundcolor\":\"#E5ECF6\",\"gridcolor\":\"white\",\"linecolor\":\"white\",\"showbackground\":true,\"ticks\":\"\",\"zerolinecolor\":\"white\",\"gridwidth\":2}},\"shapedefaults\":{\"line\":{\"color\":\"#2a3f5f\"}},\"annotationdefaults\":{\"arrowcolor\":\"#2a3f5f\",\"arrowhead\":0,\"arrowwidth\":1},\"geo\":{\"bgcolor\":\"white\",\"landcolor\":\"#E5ECF6\",\"subunitcolor\":\"white\",\"showland\":true,\"showlakes\":true,\"lakecolor\":\"white\"},\"title\":{\"x\":0.05},\"mapbox\":{\"style\":\"light\"}}}},                        {\"responsive\": true}                    ).then(function(){\n",
       "                            \n",
       "var gd = document.getElementById('c862ec11-dbe0-4cfc-937a-427e03029329');\n",
       "var x = new MutationObserver(function (mutations, observer) {{\n",
       "        var display = window.getComputedStyle(gd).display;\n",
       "        if (!display || display === 'none') {{\n",
       "            console.log([gd, 'removed!']);\n",
       "            Plotly.purge(gd);\n",
       "            observer.disconnect();\n",
       "        }}\n",
       "}});\n",
       "\n",
       "// Listen for the removal of the full notebook cells\n",
       "var notebookContainer = gd.closest('#notebook-container');\n",
       "if (notebookContainer) {{\n",
       "    x.observe(notebookContainer, {childList: true});\n",
       "}}\n",
       "\n",
       "// Listen for the clearing of the current output cell\n",
       "var outputEl = gd.closest('.output');\n",
       "if (outputEl) {{\n",
       "    x.observe(outputEl, {childList: true});\n",
       "}}\n",
       "\n",
       "                        })                };                });            </script>        </div>"
      ]
     },
     "metadata": {},
     "output_type": "display_data"
    }
   ],
   "source": [
    "optuna.visualization.plot_param_importances(study)"
   ]
  },
  {
   "cell_type": "markdown",
   "id": "bfe0f5bd",
   "metadata": {},
   "source": [
    "### Optimization History Plot\n",
    "- This plot helps you understand if your optimization is making good progress or if it has reached its full potential.\n",
    "\n",
    "- Trial-by-Trial Performance: Each dot on the plot represents a single trial (one set of hyperparameters) and its corresponding objective value (the R-squared score in your case). This shows you how the model performed with different parameter combinations.\n",
    "\n",
    "- Progress Over Time: The x-axis represents the trial number. As you move from left to right, you can see how the performance of the trials changes over the course of the optimization.\n",
    "\n",
    "- Convergence: The most important part of this plot is the \"best value so far\" line. This line shows the highest R-squared score found up to each trial. If this line starts to flatten out and doesn't improve much over the last few trials, it's a strong indicator that the optimization has converged. This can tell you that running more trials might not be necessary to find a better solution."
   ]
  },
  {
   "cell_type": "code",
   "execution_count": 38,
   "id": "85842aeb",
   "metadata": {
    "scrolled": false
   },
   "outputs": [
    {
     "data": {
      "application/vnd.plotly.v1+json": {
       "config": {
        "plotlyServerURL": "https://plot.ly"
       },
       "data": [
        {
         "mode": "markers",
         "name": "Objective Value",
         "type": "scatter",
         "x": [
          0,
          1,
          2,
          3,
          4,
          5,
          6,
          7,
          8,
          9,
          10,
          11,
          12,
          13,
          14,
          15,
          16,
          17,
          18,
          19,
          20,
          21,
          22,
          23,
          24,
          25,
          26,
          27,
          28,
          29,
          30,
          31,
          32,
          33,
          34,
          35,
          36,
          37,
          38,
          39,
          40,
          41,
          42,
          43,
          44,
          45,
          46,
          47,
          48,
          49
         ],
         "y": [
          0.9212715013412772,
          0.9192064405393113,
          0.9291588151755528,
          0.9259196332029992,
          0.9238347992380238,
          0.9145217427635244,
          0.9185676393862137,
          0.9108210248012835,
          0.9254031140307885,
          0.9188325491752346,
          0.929231737653128,
          0.9312360120710792,
          0.9274197262515627,
          0.9187407413773688,
          0.9299609900481027,
          0.9218582975347922,
          0.9265201126406545,
          0.9250402935045146,
          0.9223185848594657,
          0.9286024949462802,
          0.9194641932365359,
          0.922433010522589,
          0.9296238316165357,
          0.9258237377841463,
          0.9224661092790161,
          0.9296237990965857,
          0.9212371972338224,
          0.9255627130648015,
          0.9245352204693663,
          0.9264475751592268,
          0.9240872370536789,
          0.9264534016962258,
          0.9264711193400225,
          0.9265414448894127,
          0.9267894161224293,
          0.9269277259278418,
          0.9265040296751504,
          0.9141211497345554,
          0.9326364570911319,
          0.9282354957007128,
          0.9246821484715111,
          0.9291813536592052,
          0.9258496341531612,
          0.9379196460311489,
          0.936233484657047,
          0.9332439249715012,
          0.9327214120269975,
          0.9325215405134606,
          0.9288156589809424,
          0.9284246947391183
         ]
        },
        {
         "mode": "lines",
         "name": "Best Value",
         "type": "scatter",
         "x": [
          0,
          1,
          2,
          3,
          4,
          5,
          6,
          7,
          8,
          9,
          10,
          11,
          12,
          13,
          14,
          15,
          16,
          17,
          18,
          19,
          20,
          21,
          22,
          23,
          24,
          25,
          26,
          27,
          28,
          29,
          30,
          31,
          32,
          33,
          34,
          35,
          36,
          37,
          38,
          39,
          40,
          41,
          42,
          43,
          44,
          45,
          46,
          47,
          48,
          49
         ],
         "y": [
          0.9212715013412772,
          0.9212715013412772,
          0.9291588151755528,
          0.9291588151755528,
          0.9291588151755528,
          0.9291588151755528,
          0.9291588151755528,
          0.9291588151755528,
          0.9291588151755528,
          0.9291588151755528,
          0.929231737653128,
          0.9312360120710792,
          0.9312360120710792,
          0.9312360120710792,
          0.9312360120710792,
          0.9312360120710792,
          0.9312360120710792,
          0.9312360120710792,
          0.9312360120710792,
          0.9312360120710792,
          0.9312360120710792,
          0.9312360120710792,
          0.9312360120710792,
          0.9312360120710792,
          0.9312360120710792,
          0.9312360120710792,
          0.9312360120710792,
          0.9312360120710792,
          0.9312360120710792,
          0.9312360120710792,
          0.9312360120710792,
          0.9312360120710792,
          0.9312360120710792,
          0.9312360120710792,
          0.9312360120710792,
          0.9312360120710792,
          0.9312360120710792,
          0.9312360120710792,
          0.9326364570911319,
          0.9326364570911319,
          0.9326364570911319,
          0.9326364570911319,
          0.9326364570911319,
          0.9379196460311489,
          0.9379196460311489,
          0.9379196460311489,
          0.9379196460311489,
          0.9379196460311489,
          0.9379196460311489,
          0.9379196460311489
         ]
        },
        {
         "marker": {
          "color": "#cccccc"
         },
         "mode": "markers",
         "name": "Infeasible Trial",
         "showlegend": false,
         "type": "scatter",
         "x": [],
         "y": []
        }
       ],
       "layout": {
        "template": {
         "data": {
          "bar": [
           {
            "error_x": {
             "color": "#2a3f5f"
            },
            "error_y": {
             "color": "#2a3f5f"
            },
            "marker": {
             "line": {
              "color": "#E5ECF6",
              "width": 0.5
             },
             "pattern": {
              "fillmode": "overlay",
              "size": 10,
              "solidity": 0.2
             }
            },
            "type": "bar"
           }
          ],
          "barpolar": [
           {
            "marker": {
             "line": {
              "color": "#E5ECF6",
              "width": 0.5
             },
             "pattern": {
              "fillmode": "overlay",
              "size": 10,
              "solidity": 0.2
             }
            },
            "type": "barpolar"
           }
          ],
          "carpet": [
           {
            "aaxis": {
             "endlinecolor": "#2a3f5f",
             "gridcolor": "white",
             "linecolor": "white",
             "minorgridcolor": "white",
             "startlinecolor": "#2a3f5f"
            },
            "baxis": {
             "endlinecolor": "#2a3f5f",
             "gridcolor": "white",
             "linecolor": "white",
             "minorgridcolor": "white",
             "startlinecolor": "#2a3f5f"
            },
            "type": "carpet"
           }
          ],
          "choropleth": [
           {
            "colorbar": {
             "outlinewidth": 0,
             "ticks": ""
            },
            "type": "choropleth"
           }
          ],
          "contour": [
           {
            "colorbar": {
             "outlinewidth": 0,
             "ticks": ""
            },
            "colorscale": [
             [
              0,
              "#0d0887"
             ],
             [
              0.1111111111111111,
              "#46039f"
             ],
             [
              0.2222222222222222,
              "#7201a8"
             ],
             [
              0.3333333333333333,
              "#9c179e"
             ],
             [
              0.4444444444444444,
              "#bd3786"
             ],
             [
              0.5555555555555556,
              "#d8576b"
             ],
             [
              0.6666666666666666,
              "#ed7953"
             ],
             [
              0.7777777777777778,
              "#fb9f3a"
             ],
             [
              0.8888888888888888,
              "#fdca26"
             ],
             [
              1,
              "#f0f921"
             ]
            ],
            "type": "contour"
           }
          ],
          "contourcarpet": [
           {
            "colorbar": {
             "outlinewidth": 0,
             "ticks": ""
            },
            "type": "contourcarpet"
           }
          ],
          "heatmap": [
           {
            "colorbar": {
             "outlinewidth": 0,
             "ticks": ""
            },
            "colorscale": [
             [
              0,
              "#0d0887"
             ],
             [
              0.1111111111111111,
              "#46039f"
             ],
             [
              0.2222222222222222,
              "#7201a8"
             ],
             [
              0.3333333333333333,
              "#9c179e"
             ],
             [
              0.4444444444444444,
              "#bd3786"
             ],
             [
              0.5555555555555556,
              "#d8576b"
             ],
             [
              0.6666666666666666,
              "#ed7953"
             ],
             [
              0.7777777777777778,
              "#fb9f3a"
             ],
             [
              0.8888888888888888,
              "#fdca26"
             ],
             [
              1,
              "#f0f921"
             ]
            ],
            "type": "heatmap"
           }
          ],
          "heatmapgl": [
           {
            "colorbar": {
             "outlinewidth": 0,
             "ticks": ""
            },
            "colorscale": [
             [
              0,
              "#0d0887"
             ],
             [
              0.1111111111111111,
              "#46039f"
             ],
             [
              0.2222222222222222,
              "#7201a8"
             ],
             [
              0.3333333333333333,
              "#9c179e"
             ],
             [
              0.4444444444444444,
              "#bd3786"
             ],
             [
              0.5555555555555556,
              "#d8576b"
             ],
             [
              0.6666666666666666,
              "#ed7953"
             ],
             [
              0.7777777777777778,
              "#fb9f3a"
             ],
             [
              0.8888888888888888,
              "#fdca26"
             ],
             [
              1,
              "#f0f921"
             ]
            ],
            "type": "heatmapgl"
           }
          ],
          "histogram": [
           {
            "marker": {
             "pattern": {
              "fillmode": "overlay",
              "size": 10,
              "solidity": 0.2
             }
            },
            "type": "histogram"
           }
          ],
          "histogram2d": [
           {
            "colorbar": {
             "outlinewidth": 0,
             "ticks": ""
            },
            "colorscale": [
             [
              0,
              "#0d0887"
             ],
             [
              0.1111111111111111,
              "#46039f"
             ],
             [
              0.2222222222222222,
              "#7201a8"
             ],
             [
              0.3333333333333333,
              "#9c179e"
             ],
             [
              0.4444444444444444,
              "#bd3786"
             ],
             [
              0.5555555555555556,
              "#d8576b"
             ],
             [
              0.6666666666666666,
              "#ed7953"
             ],
             [
              0.7777777777777778,
              "#fb9f3a"
             ],
             [
              0.8888888888888888,
              "#fdca26"
             ],
             [
              1,
              "#f0f921"
             ]
            ],
            "type": "histogram2d"
           }
          ],
          "histogram2dcontour": [
           {
            "colorbar": {
             "outlinewidth": 0,
             "ticks": ""
            },
            "colorscale": [
             [
              0,
              "#0d0887"
             ],
             [
              0.1111111111111111,
              "#46039f"
             ],
             [
              0.2222222222222222,
              "#7201a8"
             ],
             [
              0.3333333333333333,
              "#9c179e"
             ],
             [
              0.4444444444444444,
              "#bd3786"
             ],
             [
              0.5555555555555556,
              "#d8576b"
             ],
             [
              0.6666666666666666,
              "#ed7953"
             ],
             [
              0.7777777777777778,
              "#fb9f3a"
             ],
             [
              0.8888888888888888,
              "#fdca26"
             ],
             [
              1,
              "#f0f921"
             ]
            ],
            "type": "histogram2dcontour"
           }
          ],
          "mesh3d": [
           {
            "colorbar": {
             "outlinewidth": 0,
             "ticks": ""
            },
            "type": "mesh3d"
           }
          ],
          "parcoords": [
           {
            "line": {
             "colorbar": {
              "outlinewidth": 0,
              "ticks": ""
             }
            },
            "type": "parcoords"
           }
          ],
          "pie": [
           {
            "automargin": true,
            "type": "pie"
           }
          ],
          "scatter": [
           {
            "fillpattern": {
             "fillmode": "overlay",
             "size": 10,
             "solidity": 0.2
            },
            "type": "scatter"
           }
          ],
          "scatter3d": [
           {
            "line": {
             "colorbar": {
              "outlinewidth": 0,
              "ticks": ""
             }
            },
            "marker": {
             "colorbar": {
              "outlinewidth": 0,
              "ticks": ""
             }
            },
            "type": "scatter3d"
           }
          ],
          "scattercarpet": [
           {
            "marker": {
             "colorbar": {
              "outlinewidth": 0,
              "ticks": ""
             }
            },
            "type": "scattercarpet"
           }
          ],
          "scattergeo": [
           {
            "marker": {
             "colorbar": {
              "outlinewidth": 0,
              "ticks": ""
             }
            },
            "type": "scattergeo"
           }
          ],
          "scattergl": [
           {
            "marker": {
             "colorbar": {
              "outlinewidth": 0,
              "ticks": ""
             }
            },
            "type": "scattergl"
           }
          ],
          "scattermapbox": [
           {
            "marker": {
             "colorbar": {
              "outlinewidth": 0,
              "ticks": ""
             }
            },
            "type": "scattermapbox"
           }
          ],
          "scatterpolar": [
           {
            "marker": {
             "colorbar": {
              "outlinewidth": 0,
              "ticks": ""
             }
            },
            "type": "scatterpolar"
           }
          ],
          "scatterpolargl": [
           {
            "marker": {
             "colorbar": {
              "outlinewidth": 0,
              "ticks": ""
             }
            },
            "type": "scatterpolargl"
           }
          ],
          "scatterternary": [
           {
            "marker": {
             "colorbar": {
              "outlinewidth": 0,
              "ticks": ""
             }
            },
            "type": "scatterternary"
           }
          ],
          "surface": [
           {
            "colorbar": {
             "outlinewidth": 0,
             "ticks": ""
            },
            "colorscale": [
             [
              0,
              "#0d0887"
             ],
             [
              0.1111111111111111,
              "#46039f"
             ],
             [
              0.2222222222222222,
              "#7201a8"
             ],
             [
              0.3333333333333333,
              "#9c179e"
             ],
             [
              0.4444444444444444,
              "#bd3786"
             ],
             [
              0.5555555555555556,
              "#d8576b"
             ],
             [
              0.6666666666666666,
              "#ed7953"
             ],
             [
              0.7777777777777778,
              "#fb9f3a"
             ],
             [
              0.8888888888888888,
              "#fdca26"
             ],
             [
              1,
              "#f0f921"
             ]
            ],
            "type": "surface"
           }
          ],
          "table": [
           {
            "cells": {
             "fill": {
              "color": "#EBF0F8"
             },
             "line": {
              "color": "white"
             }
            },
            "header": {
             "fill": {
              "color": "#C8D4E3"
             },
             "line": {
              "color": "white"
             }
            },
            "type": "table"
           }
          ]
         },
         "layout": {
          "annotationdefaults": {
           "arrowcolor": "#2a3f5f",
           "arrowhead": 0,
           "arrowwidth": 1
          },
          "autotypenumbers": "strict",
          "coloraxis": {
           "colorbar": {
            "outlinewidth": 0,
            "ticks": ""
           }
          },
          "colorscale": {
           "diverging": [
            [
             0,
             "#8e0152"
            ],
            [
             0.1,
             "#c51b7d"
            ],
            [
             0.2,
             "#de77ae"
            ],
            [
             0.3,
             "#f1b6da"
            ],
            [
             0.4,
             "#fde0ef"
            ],
            [
             0.5,
             "#f7f7f7"
            ],
            [
             0.6,
             "#e6f5d0"
            ],
            [
             0.7,
             "#b8e186"
            ],
            [
             0.8,
             "#7fbc41"
            ],
            [
             0.9,
             "#4d9221"
            ],
            [
             1,
             "#276419"
            ]
           ],
           "sequential": [
            [
             0,
             "#0d0887"
            ],
            [
             0.1111111111111111,
             "#46039f"
            ],
            [
             0.2222222222222222,
             "#7201a8"
            ],
            [
             0.3333333333333333,
             "#9c179e"
            ],
            [
             0.4444444444444444,
             "#bd3786"
            ],
            [
             0.5555555555555556,
             "#d8576b"
            ],
            [
             0.6666666666666666,
             "#ed7953"
            ],
            [
             0.7777777777777778,
             "#fb9f3a"
            ],
            [
             0.8888888888888888,
             "#fdca26"
            ],
            [
             1,
             "#f0f921"
            ]
           ],
           "sequentialminus": [
            [
             0,
             "#0d0887"
            ],
            [
             0.1111111111111111,
             "#46039f"
            ],
            [
             0.2222222222222222,
             "#7201a8"
            ],
            [
             0.3333333333333333,
             "#9c179e"
            ],
            [
             0.4444444444444444,
             "#bd3786"
            ],
            [
             0.5555555555555556,
             "#d8576b"
            ],
            [
             0.6666666666666666,
             "#ed7953"
            ],
            [
             0.7777777777777778,
             "#fb9f3a"
            ],
            [
             0.8888888888888888,
             "#fdca26"
            ],
            [
             1,
             "#f0f921"
            ]
           ]
          },
          "colorway": [
           "#636efa",
           "#EF553B",
           "#00cc96",
           "#ab63fa",
           "#FFA15A",
           "#19d3f3",
           "#FF6692",
           "#B6E880",
           "#FF97FF",
           "#FECB52"
          ],
          "font": {
           "color": "#2a3f5f"
          },
          "geo": {
           "bgcolor": "white",
           "lakecolor": "white",
           "landcolor": "#E5ECF6",
           "showlakes": true,
           "showland": true,
           "subunitcolor": "white"
          },
          "hoverlabel": {
           "align": "left"
          },
          "hovermode": "closest",
          "mapbox": {
           "style": "light"
          },
          "paper_bgcolor": "white",
          "plot_bgcolor": "#E5ECF6",
          "polar": {
           "angularaxis": {
            "gridcolor": "white",
            "linecolor": "white",
            "ticks": ""
           },
           "bgcolor": "#E5ECF6",
           "radialaxis": {
            "gridcolor": "white",
            "linecolor": "white",
            "ticks": ""
           }
          },
          "scene": {
           "xaxis": {
            "backgroundcolor": "#E5ECF6",
            "gridcolor": "white",
            "gridwidth": 2,
            "linecolor": "white",
            "showbackground": true,
            "ticks": "",
            "zerolinecolor": "white"
           },
           "yaxis": {
            "backgroundcolor": "#E5ECF6",
            "gridcolor": "white",
            "gridwidth": 2,
            "linecolor": "white",
            "showbackground": true,
            "ticks": "",
            "zerolinecolor": "white"
           },
           "zaxis": {
            "backgroundcolor": "#E5ECF6",
            "gridcolor": "white",
            "gridwidth": 2,
            "linecolor": "white",
            "showbackground": true,
            "ticks": "",
            "zerolinecolor": "white"
           }
          },
          "shapedefaults": {
           "line": {
            "color": "#2a3f5f"
           }
          },
          "ternary": {
           "aaxis": {
            "gridcolor": "white",
            "linecolor": "white",
            "ticks": ""
           },
           "baxis": {
            "gridcolor": "white",
            "linecolor": "white",
            "ticks": ""
           },
           "bgcolor": "#E5ECF6",
           "caxis": {
            "gridcolor": "white",
            "linecolor": "white",
            "ticks": ""
           }
          },
          "title": {
           "x": 0.05
          },
          "xaxis": {
           "automargin": true,
           "gridcolor": "white",
           "linecolor": "white",
           "ticks": "",
           "title": {
            "standoff": 15
           },
           "zerolinecolor": "white",
           "zerolinewidth": 2
          },
          "yaxis": {
           "automargin": true,
           "gridcolor": "white",
           "linecolor": "white",
           "ticks": "",
           "title": {
            "standoff": 15
           },
           "zerolinecolor": "white",
           "zerolinewidth": 2
          }
         }
        },
        "title": {
         "text": "Optimization History Plot"
        },
        "xaxis": {
         "title": {
          "text": "Trial"
         }
        },
        "yaxis": {
         "title": {
          "text": "Objective Value"
         }
        }
       }
      },
      "text/html": [
       "<div>                            <div id=\"2b346e67-0c91-4bfe-9757-2f779409722e\" class=\"plotly-graph-div\" style=\"height:525px; width:100%;\"></div>            <script type=\"text/javascript\">                require([\"plotly\"], function(Plotly) {                    window.PLOTLYENV=window.PLOTLYENV || {};                                    if (document.getElementById(\"2b346e67-0c91-4bfe-9757-2f779409722e\")) {                    Plotly.newPlot(                        \"2b346e67-0c91-4bfe-9757-2f779409722e\",                        [{\"mode\":\"markers\",\"name\":\"Objective Value\",\"x\":[0,1,2,3,4,5,6,7,8,9,10,11,12,13,14,15,16,17,18,19,20,21,22,23,24,25,26,27,28,29,30,31,32,33,34,35,36,37,38,39,40,41,42,43,44,45,46,47,48,49],\"y\":[0.9212715013412772,0.9192064405393113,0.9291588151755528,0.9259196332029992,0.9238347992380238,0.9145217427635244,0.9185676393862137,0.9108210248012835,0.9254031140307885,0.9188325491752346,0.929231737653128,0.9312360120710792,0.9274197262515627,0.9187407413773688,0.9299609900481027,0.9218582975347922,0.9265201126406545,0.9250402935045146,0.9223185848594657,0.9286024949462802,0.9194641932365359,0.922433010522589,0.9296238316165357,0.9258237377841463,0.9224661092790161,0.9296237990965857,0.9212371972338224,0.9255627130648015,0.9245352204693663,0.9264475751592268,0.9240872370536789,0.9264534016962258,0.9264711193400225,0.9265414448894127,0.9267894161224293,0.9269277259278418,0.9265040296751504,0.9141211497345554,0.9326364570911319,0.9282354957007128,0.9246821484715111,0.9291813536592052,0.9258496341531612,0.9379196460311489,0.936233484657047,0.9332439249715012,0.9327214120269975,0.9325215405134606,0.9288156589809424,0.9284246947391183],\"type\":\"scatter\"},{\"mode\":\"lines\",\"name\":\"Best Value\",\"x\":[0,1,2,3,4,5,6,7,8,9,10,11,12,13,14,15,16,17,18,19,20,21,22,23,24,25,26,27,28,29,30,31,32,33,34,35,36,37,38,39,40,41,42,43,44,45,46,47,48,49],\"y\":[0.9212715013412772,0.9212715013412772,0.9291588151755528,0.9291588151755528,0.9291588151755528,0.9291588151755528,0.9291588151755528,0.9291588151755528,0.9291588151755528,0.9291588151755528,0.929231737653128,0.9312360120710792,0.9312360120710792,0.9312360120710792,0.9312360120710792,0.9312360120710792,0.9312360120710792,0.9312360120710792,0.9312360120710792,0.9312360120710792,0.9312360120710792,0.9312360120710792,0.9312360120710792,0.9312360120710792,0.9312360120710792,0.9312360120710792,0.9312360120710792,0.9312360120710792,0.9312360120710792,0.9312360120710792,0.9312360120710792,0.9312360120710792,0.9312360120710792,0.9312360120710792,0.9312360120710792,0.9312360120710792,0.9312360120710792,0.9312360120710792,0.9326364570911319,0.9326364570911319,0.9326364570911319,0.9326364570911319,0.9326364570911319,0.9379196460311489,0.9379196460311489,0.9379196460311489,0.9379196460311489,0.9379196460311489,0.9379196460311489,0.9379196460311489],\"type\":\"scatter\"},{\"marker\":{\"color\":\"#cccccc\"},\"mode\":\"markers\",\"name\":\"Infeasible Trial\",\"showlegend\":false,\"x\":[],\"y\":[],\"type\":\"scatter\"}],                        {\"title\":{\"text\":\"Optimization History Plot\"},\"xaxis\":{\"title\":{\"text\":\"Trial\"}},\"yaxis\":{\"title\":{\"text\":\"Objective Value\"}},\"template\":{\"data\":{\"histogram2dcontour\":[{\"type\":\"histogram2dcontour\",\"colorbar\":{\"outlinewidth\":0,\"ticks\":\"\"},\"colorscale\":[[0.0,\"#0d0887\"],[0.1111111111111111,\"#46039f\"],[0.2222222222222222,\"#7201a8\"],[0.3333333333333333,\"#9c179e\"],[0.4444444444444444,\"#bd3786\"],[0.5555555555555556,\"#d8576b\"],[0.6666666666666666,\"#ed7953\"],[0.7777777777777778,\"#fb9f3a\"],[0.8888888888888888,\"#fdca26\"],[1.0,\"#f0f921\"]]}],\"choropleth\":[{\"type\":\"choropleth\",\"colorbar\":{\"outlinewidth\":0,\"ticks\":\"\"}}],\"histogram2d\":[{\"type\":\"histogram2d\",\"colorbar\":{\"outlinewidth\":0,\"ticks\":\"\"},\"colorscale\":[[0.0,\"#0d0887\"],[0.1111111111111111,\"#46039f\"],[0.2222222222222222,\"#7201a8\"],[0.3333333333333333,\"#9c179e\"],[0.4444444444444444,\"#bd3786\"],[0.5555555555555556,\"#d8576b\"],[0.6666666666666666,\"#ed7953\"],[0.7777777777777778,\"#fb9f3a\"],[0.8888888888888888,\"#fdca26\"],[1.0,\"#f0f921\"]]}],\"heatmap\":[{\"type\":\"heatmap\",\"colorbar\":{\"outlinewidth\":0,\"ticks\":\"\"},\"colorscale\":[[0.0,\"#0d0887\"],[0.1111111111111111,\"#46039f\"],[0.2222222222222222,\"#7201a8\"],[0.3333333333333333,\"#9c179e\"],[0.4444444444444444,\"#bd3786\"],[0.5555555555555556,\"#d8576b\"],[0.6666666666666666,\"#ed7953\"],[0.7777777777777778,\"#fb9f3a\"],[0.8888888888888888,\"#fdca26\"],[1.0,\"#f0f921\"]]}],\"heatmapgl\":[{\"type\":\"heatmapgl\",\"colorbar\":{\"outlinewidth\":0,\"ticks\":\"\"},\"colorscale\":[[0.0,\"#0d0887\"],[0.1111111111111111,\"#46039f\"],[0.2222222222222222,\"#7201a8\"],[0.3333333333333333,\"#9c179e\"],[0.4444444444444444,\"#bd3786\"],[0.5555555555555556,\"#d8576b\"],[0.6666666666666666,\"#ed7953\"],[0.7777777777777778,\"#fb9f3a\"],[0.8888888888888888,\"#fdca26\"],[1.0,\"#f0f921\"]]}],\"contourcarpet\":[{\"type\":\"contourcarpet\",\"colorbar\":{\"outlinewidth\":0,\"ticks\":\"\"}}],\"contour\":[{\"type\":\"contour\",\"colorbar\":{\"outlinewidth\":0,\"ticks\":\"\"},\"colorscale\":[[0.0,\"#0d0887\"],[0.1111111111111111,\"#46039f\"],[0.2222222222222222,\"#7201a8\"],[0.3333333333333333,\"#9c179e\"],[0.4444444444444444,\"#bd3786\"],[0.5555555555555556,\"#d8576b\"],[0.6666666666666666,\"#ed7953\"],[0.7777777777777778,\"#fb9f3a\"],[0.8888888888888888,\"#fdca26\"],[1.0,\"#f0f921\"]]}],\"surface\":[{\"type\":\"surface\",\"colorbar\":{\"outlinewidth\":0,\"ticks\":\"\"},\"colorscale\":[[0.0,\"#0d0887\"],[0.1111111111111111,\"#46039f\"],[0.2222222222222222,\"#7201a8\"],[0.3333333333333333,\"#9c179e\"],[0.4444444444444444,\"#bd3786\"],[0.5555555555555556,\"#d8576b\"],[0.6666666666666666,\"#ed7953\"],[0.7777777777777778,\"#fb9f3a\"],[0.8888888888888888,\"#fdca26\"],[1.0,\"#f0f921\"]]}],\"mesh3d\":[{\"type\":\"mesh3d\",\"colorbar\":{\"outlinewidth\":0,\"ticks\":\"\"}}],\"scatter\":[{\"fillpattern\":{\"fillmode\":\"overlay\",\"size\":10,\"solidity\":0.2},\"type\":\"scatter\"}],\"parcoords\":[{\"type\":\"parcoords\",\"line\":{\"colorbar\":{\"outlinewidth\":0,\"ticks\":\"\"}}}],\"scatterpolargl\":[{\"type\":\"scatterpolargl\",\"marker\":{\"colorbar\":{\"outlinewidth\":0,\"ticks\":\"\"}}}],\"bar\":[{\"error_x\":{\"color\":\"#2a3f5f\"},\"error_y\":{\"color\":\"#2a3f5f\"},\"marker\":{\"line\":{\"color\":\"#E5ECF6\",\"width\":0.5},\"pattern\":{\"fillmode\":\"overlay\",\"size\":10,\"solidity\":0.2}},\"type\":\"bar\"}],\"scattergeo\":[{\"type\":\"scattergeo\",\"marker\":{\"colorbar\":{\"outlinewidth\":0,\"ticks\":\"\"}}}],\"scatterpolar\":[{\"type\":\"scatterpolar\",\"marker\":{\"colorbar\":{\"outlinewidth\":0,\"ticks\":\"\"}}}],\"histogram\":[{\"marker\":{\"pattern\":{\"fillmode\":\"overlay\",\"size\":10,\"solidity\":0.2}},\"type\":\"histogram\"}],\"scattergl\":[{\"type\":\"scattergl\",\"marker\":{\"colorbar\":{\"outlinewidth\":0,\"ticks\":\"\"}}}],\"scatter3d\":[{\"type\":\"scatter3d\",\"line\":{\"colorbar\":{\"outlinewidth\":0,\"ticks\":\"\"}},\"marker\":{\"colorbar\":{\"outlinewidth\":0,\"ticks\":\"\"}}}],\"scattermapbox\":[{\"type\":\"scattermapbox\",\"marker\":{\"colorbar\":{\"outlinewidth\":0,\"ticks\":\"\"}}}],\"scatterternary\":[{\"type\":\"scatterternary\",\"marker\":{\"colorbar\":{\"outlinewidth\":0,\"ticks\":\"\"}}}],\"scattercarpet\":[{\"type\":\"scattercarpet\",\"marker\":{\"colorbar\":{\"outlinewidth\":0,\"ticks\":\"\"}}}],\"carpet\":[{\"aaxis\":{\"endlinecolor\":\"#2a3f5f\",\"gridcolor\":\"white\",\"linecolor\":\"white\",\"minorgridcolor\":\"white\",\"startlinecolor\":\"#2a3f5f\"},\"baxis\":{\"endlinecolor\":\"#2a3f5f\",\"gridcolor\":\"white\",\"linecolor\":\"white\",\"minorgridcolor\":\"white\",\"startlinecolor\":\"#2a3f5f\"},\"type\":\"carpet\"}],\"table\":[{\"cells\":{\"fill\":{\"color\":\"#EBF0F8\"},\"line\":{\"color\":\"white\"}},\"header\":{\"fill\":{\"color\":\"#C8D4E3\"},\"line\":{\"color\":\"white\"}},\"type\":\"table\"}],\"barpolar\":[{\"marker\":{\"line\":{\"color\":\"#E5ECF6\",\"width\":0.5},\"pattern\":{\"fillmode\":\"overlay\",\"size\":10,\"solidity\":0.2}},\"type\":\"barpolar\"}],\"pie\":[{\"automargin\":true,\"type\":\"pie\"}]},\"layout\":{\"autotypenumbers\":\"strict\",\"colorway\":[\"#636efa\",\"#EF553B\",\"#00cc96\",\"#ab63fa\",\"#FFA15A\",\"#19d3f3\",\"#FF6692\",\"#B6E880\",\"#FF97FF\",\"#FECB52\"],\"font\":{\"color\":\"#2a3f5f\"},\"hovermode\":\"closest\",\"hoverlabel\":{\"align\":\"left\"},\"paper_bgcolor\":\"white\",\"plot_bgcolor\":\"#E5ECF6\",\"polar\":{\"bgcolor\":\"#E5ECF6\",\"angularaxis\":{\"gridcolor\":\"white\",\"linecolor\":\"white\",\"ticks\":\"\"},\"radialaxis\":{\"gridcolor\":\"white\",\"linecolor\":\"white\",\"ticks\":\"\"}},\"ternary\":{\"bgcolor\":\"#E5ECF6\",\"aaxis\":{\"gridcolor\":\"white\",\"linecolor\":\"white\",\"ticks\":\"\"},\"baxis\":{\"gridcolor\":\"white\",\"linecolor\":\"white\",\"ticks\":\"\"},\"caxis\":{\"gridcolor\":\"white\",\"linecolor\":\"white\",\"ticks\":\"\"}},\"coloraxis\":{\"colorbar\":{\"outlinewidth\":0,\"ticks\":\"\"}},\"colorscale\":{\"sequential\":[[0.0,\"#0d0887\"],[0.1111111111111111,\"#46039f\"],[0.2222222222222222,\"#7201a8\"],[0.3333333333333333,\"#9c179e\"],[0.4444444444444444,\"#bd3786\"],[0.5555555555555556,\"#d8576b\"],[0.6666666666666666,\"#ed7953\"],[0.7777777777777778,\"#fb9f3a\"],[0.8888888888888888,\"#fdca26\"],[1.0,\"#f0f921\"]],\"sequentialminus\":[[0.0,\"#0d0887\"],[0.1111111111111111,\"#46039f\"],[0.2222222222222222,\"#7201a8\"],[0.3333333333333333,\"#9c179e\"],[0.4444444444444444,\"#bd3786\"],[0.5555555555555556,\"#d8576b\"],[0.6666666666666666,\"#ed7953\"],[0.7777777777777778,\"#fb9f3a\"],[0.8888888888888888,\"#fdca26\"],[1.0,\"#f0f921\"]],\"diverging\":[[0,\"#8e0152\"],[0.1,\"#c51b7d\"],[0.2,\"#de77ae\"],[0.3,\"#f1b6da\"],[0.4,\"#fde0ef\"],[0.5,\"#f7f7f7\"],[0.6,\"#e6f5d0\"],[0.7,\"#b8e186\"],[0.8,\"#7fbc41\"],[0.9,\"#4d9221\"],[1,\"#276419\"]]},\"xaxis\":{\"gridcolor\":\"white\",\"linecolor\":\"white\",\"ticks\":\"\",\"title\":{\"standoff\":15},\"zerolinecolor\":\"white\",\"automargin\":true,\"zerolinewidth\":2},\"yaxis\":{\"gridcolor\":\"white\",\"linecolor\":\"white\",\"ticks\":\"\",\"title\":{\"standoff\":15},\"zerolinecolor\":\"white\",\"automargin\":true,\"zerolinewidth\":2},\"scene\":{\"xaxis\":{\"backgroundcolor\":\"#E5ECF6\",\"gridcolor\":\"white\",\"linecolor\":\"white\",\"showbackground\":true,\"ticks\":\"\",\"zerolinecolor\":\"white\",\"gridwidth\":2},\"yaxis\":{\"backgroundcolor\":\"#E5ECF6\",\"gridcolor\":\"white\",\"linecolor\":\"white\",\"showbackground\":true,\"ticks\":\"\",\"zerolinecolor\":\"white\",\"gridwidth\":2},\"zaxis\":{\"backgroundcolor\":\"#E5ECF6\",\"gridcolor\":\"white\",\"linecolor\":\"white\",\"showbackground\":true,\"ticks\":\"\",\"zerolinecolor\":\"white\",\"gridwidth\":2}},\"shapedefaults\":{\"line\":{\"color\":\"#2a3f5f\"}},\"annotationdefaults\":{\"arrowcolor\":\"#2a3f5f\",\"arrowhead\":0,\"arrowwidth\":1},\"geo\":{\"bgcolor\":\"white\",\"landcolor\":\"#E5ECF6\",\"subunitcolor\":\"white\",\"showland\":true,\"showlakes\":true,\"lakecolor\":\"white\"},\"title\":{\"x\":0.05},\"mapbox\":{\"style\":\"light\"}}}},                        {\"responsive\": true}                    ).then(function(){\n",
       "                            \n",
       "var gd = document.getElementById('2b346e67-0c91-4bfe-9757-2f779409722e');\n",
       "var x = new MutationObserver(function (mutations, observer) {{\n",
       "        var display = window.getComputedStyle(gd).display;\n",
       "        if (!display || display === 'none') {{\n",
       "            console.log([gd, 'removed!']);\n",
       "            Plotly.purge(gd);\n",
       "            observer.disconnect();\n",
       "        }}\n",
       "}});\n",
       "\n",
       "// Listen for the removal of the full notebook cells\n",
       "var notebookContainer = gd.closest('#notebook-container');\n",
       "if (notebookContainer) {{\n",
       "    x.observe(notebookContainer, {childList: true});\n",
       "}}\n",
       "\n",
       "// Listen for the clearing of the current output cell\n",
       "var outputEl = gd.closest('.output');\n",
       "if (outputEl) {{\n",
       "    x.observe(outputEl, {childList: true});\n",
       "}}\n",
       "\n",
       "                        })                };                });            </script>        </div>"
      ]
     },
     "metadata": {},
     "output_type": "display_data"
    }
   ],
   "source": [
    "optuna.visualization.plot_optimization_history(study)"
   ]
  },
  {
   "cell_type": "markdown",
   "id": "83a5cdc5",
   "metadata": {},
   "source": [
    "### Model Evaluation"
   ]
  },
  {
   "cell_type": "code",
   "execution_count": 41,
   "id": "c045268e",
   "metadata": {},
   "outputs": [
    {
     "data": {
      "text/plain": [
       "<catboost.core.CatBoostRegressor at 0x153649c90>"
      ]
     },
     "execution_count": 41,
     "metadata": {},
     "output_type": "execute_result"
    }
   ],
   "source": [
    "# Retrain the model using the best hyperparameters found by Optuna\n",
    "final_model = CatBoostRegressor(\n",
    "    **study.best_params, \n",
    "    cat_features=categ_nom,\n",
    "    verbose=0,\n",
    "    random_seed=42\n",
    ")\n",
    "\n",
    "final_model.fit(X_train, y_train)"
   ]
  },
  {
   "cell_type": "code",
   "execution_count": 42,
   "id": "c0a32533",
   "metadata": {},
   "outputs": [
    {
     "name": "stdout",
     "output_type": "stream",
     "text": [
      "Final R-squared score on the test set: 0.9379\n"
     ]
    }
   ],
   "source": [
    "# Make predictions and evaluate on the test set\n",
    "final_y_pred = final_model.predict(X_test)\n",
    "final_r2 = r2_score(y_test, final_y_pred)\n",
    "print(f\"Final R-squared score on the test set: {final_r2:.4f}\")"
   ]
  },
  {
   "cell_type": "code",
   "execution_count": 47,
   "id": "9d59df38",
   "metadata": {},
   "outputs": [
    {
     "name": "stdout",
     "output_type": "stream",
     "text": [
      "\n",
      "==================================================\n",
      "Performing K-fold Cross-Validation with the Final Model...\n",
      "==================================================\n",
      "\n",
      "Cross-Validation Results:\n",
      "  R-squared scores: [0.9522 0.9277 0.9291 0.9582 0.8558 0.944  0.9379 0.8923 0.9223 0.9401\n",
      " 0.9323 0.9518 0.9344 0.9355 0.8766]\n",
      "  Mean R-squared score: 0.9260\n",
      "  Standard deviation of R-squared score: 0.0280\n",
      "------------------------------\n",
      "  Neg-RMSE scores: [-17862.3119 -21847.897  -18287.5747 -15456.0335 -25903.5121 -19124.1616\n",
      " -18212.2379 -24580.9825 -21312.6407 -17406.0098 -20234.3589 -14736.5762\n",
      " -20551.7763 -19915.8185 -25334.5402]\n",
      "  Mean Neg-RMSE score: -20051.0955\n",
      "  Standard deviation of Neg-RMSE score: 3228.0497\n",
      "------------------------------\n",
      "\n",
      "Final evaluation and analysis complete.\n"
     ]
    }
   ],
   "source": [
    "# --- Cross-Validation with Final Model ---\n",
    "print(\"\\n\" + \"=\"*50)\n",
    "print(\"Performing K-fold Cross-Validation with the Final Model...\")\n",
    "print(\"=\"*50)\n",
    "\n",
    "# Re-instantiate the final model with best parameters\n",
    "final_model_cv = CatBoostRegressor(\n",
    "    **study.best_params, \n",
    "    cat_features=categ_nom,\n",
    "    verbose=0,\n",
    "    random_seed=42\n",
    ")\n",
    "\n",
    "# Implementing Repeated K-Fold Cross-Validation (before tuning any hyperparameters)\n",
    "\n",
    "n_splits = 5\n",
    "n_repeats = 3\n",
    "rkf = RepeatedKFold(n_splits=n_splits, n_repeats=n_repeats, random_state=42)\n",
    "\n",
    "scoring = {'R-squared': 'r2',\n",
    "           'Neg-RMSE': 'neg_root_mean_squared_error'\n",
    "          }\n",
    "\n",
    "\n",
    "# Perform cross-validation and get the R-squared scores\n",
    "# We use the full dataset (X, y) for cross-validation\n",
    "cv_scores = cross_validate(final_model_cv, X, y, cv=rkf, scoring=scoring, n_jobs=-1)\n",
    "\n",
    "# Print the results for each metric\n",
    "print(\"\\nCross-Validation Results:\")\n",
    "for metric_name, score_array in cv_scores.items():\n",
    "    if metric_name.startswith('test_'):\n",
    "        print(f\"  {metric_name.replace('test_', '')} scores: {np.round(score_array, 4)}\")\n",
    "        print(f\"  Mean {metric_name.replace('test_', '')} score: {np.mean(score_array):.4f}\")\n",
    "        print(f\"  Standard deviation of {metric_name.replace('test_', '')} score: {np.std(score_array):.4f}\")\n",
    "        print(\"-\" * 30)\n",
    "\n",
    "print(\"\\nFinal evaluation and analysis complete.\")\n",
    "\n"
   ]
  },
  {
   "cell_type": "code",
   "execution_count": 50,
   "id": "56ca44ec",
   "metadata": {},
   "outputs": [
    {
     "data": {
      "text/html": [
       "<div>\n",
       "<style scoped>\n",
       "    .dataframe tbody tr th:only-of-type {\n",
       "        vertical-align: middle;\n",
       "    }\n",
       "\n",
       "    .dataframe tbody tr th {\n",
       "        vertical-align: top;\n",
       "    }\n",
       "\n",
       "    .dataframe thead th {\n",
       "        text-align: right;\n",
       "    }\n",
       "</style>\n",
       "<table border=\"1\" class=\"dataframe\">\n",
       "  <thead>\n",
       "    <tr style=\"text-align: right;\">\n",
       "      <th></th>\n",
       "      <th>fit_time</th>\n",
       "      <th>score_time</th>\n",
       "      <th>test_R-squared</th>\n",
       "      <th>test_Neg-RMSE</th>\n",
       "    </tr>\n",
       "  </thead>\n",
       "  <tbody>\n",
       "    <tr>\n",
       "      <th>count</th>\n",
       "      <td>15.000000</td>\n",
       "      <td>15.000000</td>\n",
       "      <td>15.000000</td>\n",
       "      <td>15.000000</td>\n",
       "    </tr>\n",
       "    <tr>\n",
       "      <th>mean</th>\n",
       "      <td>14.816590</td>\n",
       "      <td>0.010737</td>\n",
       "      <td>0.926007</td>\n",
       "      <td>-20051.095450</td>\n",
       "    </tr>\n",
       "    <tr>\n",
       "      <th>std</th>\n",
       "      <td>2.503666</td>\n",
       "      <td>0.005691</td>\n",
       "      <td>0.029009</td>\n",
       "      <td>3341.348886</td>\n",
       "    </tr>\n",
       "    <tr>\n",
       "      <th>min</th>\n",
       "      <td>11.601601</td>\n",
       "      <td>0.003483</td>\n",
       "      <td>0.855846</td>\n",
       "      <td>-25903.512082</td>\n",
       "    </tr>\n",
       "    <tr>\n",
       "      <th>25%</th>\n",
       "      <td>13.240551</td>\n",
       "      <td>0.007393</td>\n",
       "      <td>0.925012</td>\n",
       "      <td>-21580.268818</td>\n",
       "    </tr>\n",
       "    <tr>\n",
       "      <th>50%</th>\n",
       "      <td>13.607336</td>\n",
       "      <td>0.008673</td>\n",
       "      <td>0.934385</td>\n",
       "      <td>-19915.818524</td>\n",
       "    </tr>\n",
       "    <tr>\n",
       "      <th>75%</th>\n",
       "      <td>17.116777</td>\n",
       "      <td>0.013254</td>\n",
       "      <td>0.942029</td>\n",
       "      <td>-18037.274870</td>\n",
       "    </tr>\n",
       "    <tr>\n",
       "      <th>max</th>\n",
       "      <td>19.244082</td>\n",
       "      <td>0.024350</td>\n",
       "      <td>0.958211</td>\n",
       "      <td>-14736.576209</td>\n",
       "    </tr>\n",
       "  </tbody>\n",
       "</table>\n",
       "</div>"
      ],
      "text/plain": [
       "        fit_time  score_time  test_R-squared  test_Neg-RMSE\n",
       "count  15.000000   15.000000       15.000000      15.000000\n",
       "mean   14.816590    0.010737        0.926007  -20051.095450\n",
       "std     2.503666    0.005691        0.029009    3341.348886\n",
       "min    11.601601    0.003483        0.855846  -25903.512082\n",
       "25%    13.240551    0.007393        0.925012  -21580.268818\n",
       "50%    13.607336    0.008673        0.934385  -19915.818524\n",
       "75%    17.116777    0.013254        0.942029  -18037.274870\n",
       "max    19.244082    0.024350        0.958211  -14736.576209"
      ]
     },
     "execution_count": 50,
     "metadata": {},
     "output_type": "execute_result"
    }
   ],
   "source": [
    "pd.DataFrame(cv_scores).describe()"
   ]
  },
  {
   "cell_type": "code",
   "execution_count": 53,
   "id": "bca71f70",
   "metadata": {},
   "outputs": [
    {
     "name": "stdout",
     "output_type": "stream",
     "text": [
      "\n",
      "==================================================\n",
      "Performing Baseline Model Evaluation...\n",
      "==================================================\n",
      "\n",
      "Baseline Model Cross-Validation Results:\n",
      "  R-squared scores: [-0.0011 -0.004  -0.0003 -0.0005 -0.0115 -0.0067 -0.0005 -0.002  -0.0011\n",
      " -0.0011 -0.0092 -0.0154 -0.0002 -0.0008 -0.    ]\n",
      "  Mean R-squared score: -0.0036\n",
      "  Standard deviation of R-squared score: 0.0047\n",
      "------------------------------\n",
      "  Neg-RMSE scores: [-81709.2431 -81424.9371 -68705.7217 -75625.728  -68616.9367 -81084.8483\n",
      " -73074.8984 -74970.4466 -76501.7859 -71131.0589 -78120.648  -67672.4267\n",
      " -80241.9298 -78419.4459 -72107.2671]\n",
      "  Mean Neg-RMSE score: -75293.8215\n",
      "  Standard deviation of Neg-RMSE score: 4723.5454\n",
      "------------------------------\n"
     ]
    }
   ],
   "source": [
    "from sklearn.dummy import DummyRegressor\n",
    "# --- Baseline Model Evaluation ---\n",
    "print(\"\\n\" + \"=\"*50)\n",
    "print(\"Performing Baseline Model Evaluation...\")\n",
    "print(\"=\"*50)\n",
    "\n",
    "# Instantiate a simple baseline model (DummyRegressor)\n",
    "# The default strategy for DummyRegressor is 'mean', which is a good baseline for regression.\n",
    "baseline_model = DummyRegressor(strategy='mean')\n",
    "\n",
    "# Perform cross-validation on the baseline model\n",
    "# We use the same K-fold split and scoring metrics for a fair comparison\n",
    "baseline_cv_results = cross_validate(baseline_model, X, y, cv=rkf, scoring=scoring, n_jobs=-1)\n",
    "\n",
    "# Print the results for each metric\n",
    "print(\"\\nBaseline Model Cross-Validation Results:\")\n",
    "for metric_name, score_array in baseline_cv_results.items():\n",
    "    if metric_name.startswith('test_'):\n",
    "        print(f\"  {metric_name.replace('test_', '')} scores: {np.round(score_array, 4)}\")\n",
    "        print(f\"  Mean {metric_name.replace('test_', '')} score: {np.mean(score_array):.4f}\")\n",
    "        print(f\"  Standard deviation of {metric_name.replace('test_', '')} score: {np.std(score_array):.4f}\")\n",
    "        print(\"-\" * 30)"
   ]
  },
  {
   "cell_type": "markdown",
   "id": "297c9cc9",
   "metadata": {},
   "source": [
    "### Evaluate on Test Set"
   ]
  },
  {
   "cell_type": "code",
   "execution_count": null,
   "id": "5184df35",
   "metadata": {},
   "outputs": [],
   "source": [
    "best_params = random_search.best_params_\n",
    "\n",
    "final_model = CatBoostRegressor(\n",
    "    **best_params,\n",
    "    random_state=42,\n",
    "    verbose=0,\n",
    "    cat_features=categ_nom\n",
    ")"
   ]
  },
  {
   "cell_type": "code",
   "execution_count": null,
   "id": "b6c5a14b",
   "metadata": {},
   "outputs": [],
   "source": [
    "final_model.fit(\n",
    "    X_tr, y_tr,\n",
    "    eval_set=(X_val, y_val),\n",
    "    early_stopping_rounds=50\n",
    ")"
   ]
  },
  {
   "cell_type": "code",
   "execution_count": null,
   "id": "15e651af",
   "metadata": {},
   "outputs": [],
   "source": [
    "# root mean squared error, lower is better\n",
    "# sensitive to outliers\n",
    "# tells you the average size of the error in prediction — in dollar terms\n",
    "\n",
    "y_train_pred = final_model.predict(X_train)\n",
    "y_test_pred = final_model.predict(X_test)\n",
    "\n",
    "final_rmse_train = np.sqrt(mean_squared_error(y_train, y_train_pred))\n",
    "final_rmse_test = np.sqrt(mean_squared_error(y_test, y_test_pred))\n",
    "\n",
    "print(f\"Final RMSE on the train set: ${final_rmse_train:.4f}\")\n",
    "print(f\"Final RMSE on the test set: ${final_rmse_test:.4f}\")"
   ]
  },
  {
   "cell_type": "code",
   "execution_count": null,
   "id": "d16c26b2",
   "metadata": {},
   "outputs": [],
   "source": [
    "# R2\n",
    "r2_5kf_train = final_model.score(X_train, y_train)\n",
    "r2_5kf_test = final_model.score(X_test, y_test)"
   ]
  },
  {
   "cell_type": "code",
   "execution_count": null,
   "id": "b7000850",
   "metadata": {},
   "outputs": [],
   "source": [
    "print(f\"Train R square: {r2_5kf_train:.4f}\")\n",
    "print(f\"Test R square: {r2_5kf_test:.4f}\") "
   ]
  },
  {
   "cell_type": "code",
   "execution_count": null,
   "id": "ffe66852",
   "metadata": {},
   "outputs": [],
   "source": [
    "cb_feature_importance_final = pd.DataFrame({\"feature\": X.columns, \n",
    "                                            \"importance_cb_5fk\":final_model.feature_importances_})"
   ]
  },
  {
   "cell_type": "code",
   "execution_count": null,
   "id": "543b96d4",
   "metadata": {
    "scrolled": true
   },
   "outputs": [],
   "source": [
    "cb_feature_importance_final.sort_values(\"importance_cb_5fk\", ascending = False, inplace=True);\n",
    "cb_feature_importance_final.head(10)"
   ]
  },
  {
   "cell_type": "code",
   "execution_count": null,
   "id": "2483e353",
   "metadata": {},
   "outputs": [],
   "source": [
    "temp = cb_feature_importance_final.iloc[:10,]\n",
    "plt.barh(temp[\"feature\"], temp[\"importance_cb_5fk\"]);"
   ]
  },
  {
   "cell_type": "code",
   "execution_count": null,
   "id": "6e16e7b5",
   "metadata": {
    "scrolled": false
   },
   "outputs": [],
   "source": [
    "plt.figure(figsize=(10,10))\n",
    "plt.scatter(y_test_pred, y_test, c='crimson')\n",
    "\n",
    "plt.title('Tuned CatBoost')\n",
    "p1 = max(max(y_test_pred), max(y_test))\n",
    "p2 = min(min(y_test_pred), min(y_test))\n",
    "plt.plot([p1, p2], [p1, p2], 'b-')\n",
    "plt.xlabel('Predictions', fontsize=15)\n",
    "plt.ylabel('True Values', fontsize=15)\n",
    "plt.axis('equal')\n",
    "plt.show()"
   ]
  },
  {
   "cell_type": "markdown",
   "id": "c45ed988",
   "metadata": {},
   "source": [
    "## Ditch below and add model evaluation session:\n",
    "\n",
    "That's an excellent question. You're thinking about the stability and reliability of your final model, which is a critical part of the machine learning workflow.\n",
    "\n",
    "You've already established a strong process for building and evaluating a single, well-tuned model. To go a step further and test its stability, you can use a technique called **bootstrap aggregation**, which is at the heart of models like Random Forest. You can also explore residual plots and other error metrics to gain a deeper understanding of your model's weaknesses.\n",
    "\n",
    "---\n",
    "\n",
    "### Method 1: Bootstrap Aggregation (Bootstrapping)\n",
    "\n",
    "Bootstrapping is a resampling technique that involves repeatedly drawing random samples **with replacement** from your dataset. You can use this to train multiple models and see how stable your performance metric (like RMSE) is across these different training sets. This tells you how sensitive your model's performance is to the specific data it's trained on.\n",
    "\n",
    "Here's how to do it:\n",
    "\n",
    "1.  **Loop and Resample**: Create a loop that runs, say, 100 times.\n",
    "2.  **Draw a Sample**: In each iteration, take a bootstrap sample of your training data. The size of this sample should be equal to the size of your original training data.\n",
    "3.  **Train and Evaluate**: For each sample, train a new CatBoost model using the best hyperparameters you found earlier.\n",
    "4.  **Store the Score**: Evaluate this new model on your held-out test set and store the RMSE.\n",
    "5.  **Analyze the Distribution**: After the loop finishes, you'll have a distribution of 100 RMSE scores.\n",
    "\n",
    "By analyzing the distribution of these scores, you can get:\n",
    "\n",
    "* **Average Performance**: The mean of the distribution gives you an even more robust estimate of your model's expected performance.\n",
    "* **Performance Stability**: The standard deviation of the scores tells you how much the model's performance varies with different training data. A small standard deviation indicates a very stable model.\n",
    "\n",
    "### Method 2: Residual Analysis\n",
    "\n",
    "Another powerful way to test the stability and understand the behavior of your final model is to perform a **residual analysis**. Residuals are the differences between the actual house prices and your model's predicted prices ($residuals = y_{actual} - y_{predicted}$).\n",
    "\n",
    "By plotting the residuals, you can identify patterns where your model might be systematically making errors.\n",
    "\n",
    "1.  **Plot Residuals vs. Predicted Values**: A common plot is a scatter plot with predicted values on the x-axis and residuals on the y-axis.\n",
    "    * **Ideal Plot**: The points should be randomly scattered around the zero line, forming a uniform band. This indicates that your model's errors are random and not dependent on the predicted price.\n",
    "    * **Warning Signs**: If you see a pattern (e.g., a \"fanning out\" shape where residuals get larger for higher-priced houses), it means your model is less accurate for certain price ranges. This could indicate a need for more data, different features, or a more complex model. \n",
    "\n",
    "2.  **Plot Residuals vs. Features**: Plotting residuals against your features can reveal if your model is consistently under- or over-predicting for specific feature values. For example, plotting residuals against `GrLivArea` might show that your model consistently under-predicts the price for very large homes.\n",
    "\n",
    "---\n",
    "\n",
    "### Other Metrics and Comparisons\n",
    "\n",
    "Finally, beyond RMSE, you can use other metrics to get a more complete picture of your model's performance:\n",
    "\n",
    "* **Mean Absolute Error (MAE)**: This metric is less sensitive to outliers than RMSE. It gives you the average absolute difference between predicted and actual prices. A combination of low RMSE and MAE suggests a robust model with few large errors.\n",
    "* **R-squared ($R^2$)**: While not ideal for tuning, the final $R^2$ score on the test set is an excellent way to see how much of the variance in house prices is explained by your model.\n",
    "* **Baseline Comparison**: Your initial instinct was spot-on. Compare your final model's RMSE directly to your baseline model's average cross-validated RMSE. This provides a clear, quantitative measure of the value added by your hyperparameter tuning."
   ]
  },
  {
   "cell_type": "markdown",
   "id": "e0bdfc7b",
   "metadata": {},
   "source": [
    "### Residual Plot\n",
    "- After training your final CatBoost model and using it to make predictions on the test set, you can generate a residual plot to visually inspect its performance. This type of plot is a valuable tool for understanding if your model's errors are random or if there are systematic patterns.\n",
    "\n",
    "- The plot below shows the relationship between your model's predicted values and the residuals (the difference between the actual and predicted values).\n",
    "\n",
    "- An ideal residual plot will show a random, uniform scatter of points around the horizontal line at y=0. This indicates that your model's errors are random and are not related to the predicted value. It means your model is not systematically over- or under-predicting for certain ranges of house prices.\n",
    "\n",
    "- In contrast, if you see a discernible pattern in the plot (e.g., a fanning-out shape, a curve, or a clear concentration of points), it suggests that your model may have a bias. For example, a fanning-out pattern could mean that the model's errors increase as the predicted price gets higher, indicating a need for a more complex model or additional features to handle higher-priced homes."
   ]
  },
  {
   "cell_type": "code",
   "execution_count": null,
   "id": "0381ab08",
   "metadata": {
    "scrolled": true
   },
   "outputs": [],
   "source": [
    "# Plot Residuals vs. Predicted Values\n",
    "\n",
    "residuals = y_test - y_test_pred\n",
    "\n",
    "# Create the scatter plot\n",
    "plt.figure(figsize=(10, 6))\n",
    "plt.scatter(y_test_pred, residuals, alpha=0.5)\n",
    "plt.title('Residuals vs. Predicted Values')\n",
    "plt.xlabel('Predicted House Price')\n",
    "plt.ylabel('Residuals')\n",
    "plt.axhline(y=0, color='r', linestyle='--')\n",
    "plt.grid(True)\n",
    "plt.show()\n",
    "#plt.savefig('residuals_plot.png')\n",
    "\n",
    "#print(\"Residuals plot has been generated and saved as 'residuals_plot.png'.\")"
   ]
  },
  {
   "cell_type": "markdown",
   "id": "198e4fee",
   "metadata": {},
   "source": [
    "### Distribution of actual house prices, y_test and y_test_pred\n",
    "- Overlap: The more the two distributions overlap, the better your model's predictions align with the actual values. An ideal model's y_pred distribution will closely mimic the y_test distribution.\n",
    "\n",
    "- Shape: The shapes of the two distributions should be similar. If the y_pred distribution is much narrower than the y_test distribution, it means your model is under-predicting the range of prices and is not confident in making predictions for the highest or lowest-priced homes.\n",
    "\n",
    "- Skewness: If the actual data is skewed (e.g., towards higher prices), your predicted data should show a similar skew."
   ]
  },
  {
   "cell_type": "code",
   "execution_count": null,
   "id": "68a712a7",
   "metadata": {},
   "outputs": [],
   "source": [
    "# Calculate the mean and standard deviation\n",
    "y_test_mean = np.mean(y_test)\n",
    "y_test_std = np.std(y_test)\n",
    "y_test_pred_mean = np.mean(y_test_pred)\n",
    "y_test_pred_std = np.std(y_test_pred)\n",
    "\n",
    "print(\"Actual Values (y_test) statistics:\")\n",
    "print(f\"Mean: {y_test_mean:.4f}\")\n",
    "print(f\"Standard Deviation: {y_test_std:.4f}\")\n",
    "print(\"\\nPredicted Values (y_test_pred) statistics:\")\n",
    "print(f\"Mean: {y_test_pred_mean:.4f}\")\n",
    "print(f\"Standard Deviation: {y_test_pred_std:.4f}\")"
   ]
  },
  {
   "cell_type": "code",
   "execution_count": null,
   "id": "d19e8b38",
   "metadata": {
    "scrolled": false
   },
   "outputs": [],
   "source": [
    "# Plot the distributions of y_test and y_test_pred\n",
    "plt.figure(figsize=(10, 6))\n",
    "sns.histplot(y_test, kde=True, color='blue', label='Actual Values (y_test)')\n",
    "sns.histplot(y_test_pred, kde=True, color='red', label='Predicted Values (y_test_pred)')\n",
    "sns.histplot(y, kde=True, color='orange', label='Sales Prices (y)')\n",
    "\n",
    "plt.title('Distribution of Actual vs. Predicted Values')\n",
    "plt.xlabel('House Price')\n",
    "plt.ylabel('Frequency')\n",
    "plt.legend()\n",
    "plt.grid(True)\n",
    "plt.show()\n",
    "#plt.savefig('distribution_plot.png')\n",
    "\n",
    "#print(\"Distribution plot has been generated and saved as 'distribution_plot.png'.\")"
   ]
  },
  {
   "cell_type": "code",
   "execution_count": null,
   "id": "56c93f3f",
   "metadata": {},
   "outputs": [],
   "source": [
    "# plot residual vs features\n",
    "\n",
    "# Choose the feature you want to plot against\n",
    "feature_to_plot = 'GrLivArea'  # Change this to your desired feature (e.g., 'GrLivArea')\n",
    "feature_values = X_test[feature_to_plot]\n",
    "\n",
    "# Create the scatter plot of residuals vs. a chosen feature\n",
    "plt.figure(figsize=(10, 6))\n",
    "plt.scatter(feature_values, residuals, alpha=0.5)\n",
    "plt.title(f'Residuals vs. {feature_to_plot}')\n",
    "plt.xlabel(f'{feature_to_plot} Value')\n",
    "plt.ylabel('Residuals')\n",
    "plt.axhline(y=0, color='r', linestyle='--')\n",
    "plt.grid(True)\n",
    "plt.show()\n",
    "#plt.savefig(f'residuals_vs_{feature_to_plot}.png')\n",
    "\n",
    "#print(f\"Residuals vs. {feature_to_plot} plot has been generated and saved.\")"
   ]
  },
  {
   "cell_type": "code",
   "execution_count": null,
   "id": "2ac6db6a",
   "metadata": {
    "scrolled": true
   },
   "outputs": [],
   "source": [
    "from sklearn.utils import resample\n",
    "\n",
    "# --- 3. Perform Bootstrapping to Assess Stability ---\n",
    "n_bootstraps = 100 # Number of bootstrap samples to create\n",
    "rmse_scores = []   # List to store the RMSE score for each bootstrap run\n",
    "\n",
    "#print(f\"Starting bootstrapping with {n_bootstraps} iterations...\")\n",
    "\n",
    "for i in range(n_bootstraps):\n",
    "    # a. Create a bootstrap sample of the training data\n",
    "    # resample() draws a random sample with replacement\n",
    "    X_sample, y_sample = resample(X_train, y_train, replace=True, random_state=i)\n",
    "\n",
    "    # b. Train a new CatBoost model on the bootstrap sample\n",
    "    # The model uses the best_params found during hyperparameter tuning\n",
    "    model = CatBoostRegressor(**best_params, verbose=0, random_state=42, cat_features=categ_nom)\n",
    "    model.fit(X_sample, y_sample)\n",
    "\n",
    "    # c. Evaluate the model on the held-out test set\n",
    "    y_pred = model.predict(X_test)\n",
    "    rmse = np.sqrt(mean_squared_error(y_test, y_pred))\n",
    "\n",
    "    # d. Store the RMSE score\n",
    "    rmse_scores.append(rmse)\n",
    "\n",
    "    # Print progress every 10 iterations\n",
    "    if (i + 1) % 10 == 0:\n",
    "        print(f\"Completed iteration {i + 1}/{n_bootstraps}\")\n",
    "\n",
    "# --- 4. Analyze the Distribution of RMSE Scores ---\n",
    "mean_rmse = np.mean(rmse_scores)\n",
    "std_rmse = np.std(rmse_scores)\n",
    "min_rmse = np.min(rmse_scores)\n",
    "max_rmse = np.max(rmse_scores)\n",
    "\n",
    "print(\"\\n--- Bootstrapping Results ---\")\n",
    "print(f\"Average RMSE from {n_bootstraps} runs: {mean_rmse:.4f}\")\n",
    "print(f\"Standard Deviation of RMSE: {std_rmse:.4f}\")\n",
    "print(f\"Minimum RMSE: {min_rmse:.4f}\")\n",
    "print(f\"Maximum RMSE: {max_rmse:.4f}\")"
   ]
  },
  {
   "cell_type": "code",
   "execution_count": null,
   "id": "b1f2db0a",
   "metadata": {},
   "outputs": [],
   "source": [
    "# --- 5. Visualize the Distribution ---\n",
    "plt.figure(figsize=(10, 6))\n",
    "plt.hist(rmse_scores, bins=20, edgecolor='black', alpha=0.7)\n",
    "plt.axvline(mean_rmse, color='r', linestyle='dashed', linewidth=2, label=f'Mean RMSE: {mean_rmse:.4f}')\n",
    "plt.title(f'Distribution of RMSE Scores Across {n_bootstraps} Bootstrap Samples')\n",
    "plt.xlabel('Root Mean Squared Error (RMSE)')\n",
    "plt.ylabel('Frequency')\n",
    "plt.legend()\n",
    "plt.grid(axis='y', alpha=0.75)\n",
    "plt.show()"
   ]
  },
  {
   "cell_type": "markdown",
   "id": "e725b6ff",
   "metadata": {},
   "source": [
    "### SHAP\n",
    "- A SHAP value tells you how much a particular feature pushes the model’s predicted house price up or down, compared to the average prediction across the dataset."
   ]
  },
  {
   "cell_type": "code",
   "execution_count": null,
   "id": "4e8a5ad3",
   "metadata": {},
   "outputs": [],
   "source": [
    "# Say the average predicted price is $200,000\n",
    "# If for House A, the SHAP value for GrLivArea is +15,000, \n",
    "# that means the model believes the GrLivArea of House A contributes +$15,000 to the price, \n",
    "# compared to the average. If for House B, the SHAP value is -5,000, \n",
    "# that means the GrLivArea of House B is lowering the prediction by $5,000 from the average."
   ]
  },
  {
   "cell_type": "code",
   "execution_count": null,
   "id": "83f9c275",
   "metadata": {},
   "outputs": [],
   "source": [
    "import shap\n",
    "\n",
    "# Fit explainer on train data\n",
    "explainer = shap.Explainer(final_model)\n",
    "\n",
    "# Evaluate SHAP values on test set\n",
    "shap_values = explainer.shap_values(X_test)\n",
    "\n",
    "#This balances accurate attribution with realistic performance evaluation."
   ]
  },
  {
   "cell_type": "code",
   "execution_count": null,
   "id": "b4a51508",
   "metadata": {},
   "outputs": [],
   "source": [
    "# SHAP feature importance\n",
    "mean_abs_shap_values = np.abs(shap_values).mean(axis=0)\n",
    "\n",
    "# Create a DataFrame for easier viewing and sorting\n",
    "shap_importance = pd.DataFrame({\n",
    "    'feature': X.columns,\n",
    "    'mean_abs_shap_cb_5fk': mean_abs_shap_values\n",
    "})\n",
    "\n",
    "# Sort in descending order\n",
    "shap_importance_sorted = shap_importance.sort_values(by='mean_abs_shap_cb_5fk', ascending=False)\n",
    "\n",
    "# Display\n",
    "print(shap_importance_sorted.head(30))\n",
    "\n",
    "# how to interpret:\n",
    "# # On average, the feature OverallQual changes the model’s prediction by 14,566 units of currency (likely dollars), \n",
    "# either increasing or decreasing the predicted house price."
   ]
  },
  {
   "cell_type": "code",
   "execution_count": null,
   "id": "1558dbd9",
   "metadata": {
    "scrolled": true
   },
   "outputs": [],
   "source": [
    "# to visualize the mean abs of SHAP value using summary bar plot\n",
    "shap.summary_plot(shap_values, X_test, plot_type='bar')"
   ]
  },
  {
   "cell_type": "code",
   "execution_count": null,
   "id": "e2c2944d",
   "metadata": {},
   "outputs": [],
   "source": [
    "# summary violin plot\n",
    "shap.summary_plot(shap_values, X_test)"
   ]
  },
  {
   "cell_type": "code",
   "execution_count": null,
   "id": "e2773764",
   "metadata": {},
   "outputs": [],
   "source": [
    "# How to Read the Violin Plot\n",
    "# ✅ 1. Width of the Violin (Horizontal Spread)\n",
    "\n",
    "# Wider areas indicate more data points with similar SHAP values.\n",
    "\n",
    "# This shows the distribution of how much that feature affects predictions across your dataset.\n",
    "\n",
    "# ✅ 2. Color Gradient (Red → Blue)\n",
    "\n",
    "# Each dot is colored by the actual value of the feature:\n",
    "\n",
    "# Red = High feature value\n",
    "\n",
    "# Blue = Low feature value\n",
    "\n",
    "# This helps you understand the direction of the effect.\n",
    "\n",
    "# For example, if red dots are mostly on the right (positive SHAP values), high values of that feature increase the prediction (e.g., higher price).\n",
    "\n",
    "# If blue dots are on the left (negative SHAP values), low values decrease the prediction.\n",
    "\n",
    "# ✅ 3. X-Axis (SHAP Value)\n",
    "\n",
    "# Represents the magnitude and direction of impact on the model’s prediction.\n",
    "\n",
    "# A value of +5000 means the feature adds $5,000 (for a house price model).\n",
    "\n",
    "# A value of -3000 means it subtracts $3,000 from the prediction."
   ]
  },
  {
   "cell_type": "markdown",
   "id": "0a8da4df",
   "metadata": {},
   "source": [
    "### SHAP Dependence Plot\n",
    "- In a SHAP dependence plot, the x-axis shows the value of the feature you specified, and the y-axis shows the SHAP value (i.e., the feature’s contribution to the model output). But if you’re seeing a second feature encoded on the plot, that’s expected and by design. The second feature (by color) is there to show interactions. The SHAP dependence plot automatically colors the points by the most correlated feature with the one on the x-axis. This helps uncover interactions between features."
   ]
  },
  {
   "cell_type": "code",
   "execution_count": null,
   "id": "2354c309",
   "metadata": {
    "scrolled": true
   },
   "outputs": [],
   "source": [
    "shap.dependence_plot('GrLivArea', shap_values, X_test)\n",
    "\n",
    "# if don't want to show the second y-axis\n",
    "#shap.dependence_plot('GrLivArea', shap_values, x_test, interaction_index=None)"
   ]
  },
  {
   "cell_type": "code",
   "execution_count": null,
   "id": "599e5350",
   "metadata": {
    "scrolled": true
   },
   "outputs": [],
   "source": [
    "# Select top 20 features\n",
    "top_features = shap_importance_sorted.head(20).index.tolist()\n",
    "\n",
    "for feature in top_features:\n",
    "    plt.figure(figsize=(6, 4))  # Compact size\n",
    "    \n",
    "    shap.dependence_plot(\n",
    "        feature,\n",
    "        shap_values,\n",
    "        X_test,\n",
    "        #interaction_index=None,  # Auto-picks a good feature for color encoding\n",
    "        show=False\n",
    "    )\n",
    "    plt.title(f\"SHAP Dependency Plot: {feature}\")\n",
    "    plt.tight_layout()\n",
    "    plt.show()\n",
    "    \n",
    "    # Save plot to file\n",
    "#     filename = f\"shap_dependency_{feature}.png\"\n",
    "#     plt.savefig(filename, dpi=150)\n",
    "#     plt.close()\n",
    "\n",
    "# how to interpret\n",
    "# using OverallQual as an example,\n",
    "# 1stFlrSF is the most correlated feature with Overall\n",
    "# you can see larger homes with high OverallQual have even higher SHAP values (strong positive synergy).\n",
    "# Conversely, small homes (blue dots) with high OverallQual may still not be valued as highly."
   ]
  },
  {
   "cell_type": "markdown",
   "id": "be17cfa7",
   "metadata": {},
   "source": [
    "### Export lists for final model comparison"
   ]
  },
  {
   "cell_type": "markdown",
   "id": "dd72aca8",
   "metadata": {},
   "source": [
    "### Extract the list of features and features that each one is most correlated with"
   ]
  },
  {
   "cell_type": "code",
   "execution_count": null,
   "id": "ec034ae1",
   "metadata": {},
   "outputs": [],
   "source": [
    "# Compute correlation matrix for SHAP dependency plot coloring\n",
    "#cor_matrix = X_test.corr()"
   ]
  },
  {
   "cell_type": "code",
   "execution_count": null,
   "id": "cfe8e399",
   "metadata": {},
   "outputs": [],
   "source": [
    "# most_correlated = {}\n",
    "\n",
    "# for feature in x_test.columns:\n",
    "#     # Exclude self-correlation\n",
    "#     corrs = cor_matrix[feature].drop(labels=[feature])\n",
    "    \n",
    "#     # Drop NaNs\n",
    "#     corrs = corrs.dropna()\n",
    "    \n",
    "#     # Get feature with highest absolute correlation\n",
    "#     if not corrs.empty:\n",
    "#         most_correlated_feature = corrs.abs().idxmax()\n",
    "#         most_correlated[feature] = most_correlated_feature\n"
   ]
  },
  {
   "cell_type": "code",
   "execution_count": null,
   "id": "93396f27",
   "metadata": {},
   "outputs": [],
   "source": [
    "# correlation_df = pd.DataFrame.from_dict(most_correlated, orient='index', columns=['Most_Correlated_Feature'])\n",
    "# correlation_df.reset_index(inplace=True)\n",
    "# correlation_df.columns = ['feature', 'most_correlated_feature_xgb_5fk']"
   ]
  },
  {
   "cell_type": "code",
   "execution_count": null,
   "id": "f331d1a4",
   "metadata": {},
   "outputs": [],
   "source": [
    "# correlation_df"
   ]
  },
  {
   "cell_type": "code",
   "execution_count": null,
   "id": "5e53706e",
   "metadata": {
    "scrolled": true
   },
   "outputs": [],
   "source": [
    "# limit the above list to top 20 features ranked by mean abs SHAP values\n",
    "# xgb_SHAP_feature_final = pd.merge(\n",
    "#     shap_importance_sorted, \n",
    "#     correlation_df, \n",
    "#     how='left',\n",
    "#     on = 'feature'\n",
    "# )\n",
    "\n",
    "# xgb_SHAP_feature_final"
   ]
  },
  {
   "cell_type": "code",
   "execution_count": null,
   "id": "16a2397c",
   "metadata": {},
   "outputs": [],
   "source": [
    "#xgb_feature_importance_final"
   ]
  }
 ],
 "metadata": {
  "kernelspec": {
   "display_name": "Python 3 (ipykernel)",
   "language": "python",
   "name": "python3"
  },
  "language_info": {
   "codemirror_mode": {
    "name": "ipython",
    "version": 3
   },
   "file_extension": ".py",
   "mimetype": "text/x-python",
   "name": "python",
   "nbconvert_exporter": "python",
   "pygments_lexer": "ipython3",
   "version": "3.11.3"
  }
 },
 "nbformat": 4,
 "nbformat_minor": 5
}
